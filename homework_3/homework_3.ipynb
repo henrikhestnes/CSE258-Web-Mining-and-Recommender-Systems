{
 "cells": [
  {
   "cell_type": "markdown",
   "metadata": {},
   "source": [
    "# Homework 3"
   ]
  },
  {
   "cell_type": "markdown",
   "metadata": {},
   "source": [
    "## Baseline"
   ]
  },
  {
   "cell_type": "code",
   "execution_count": 201,
   "metadata": {},
   "outputs": [],
   "source": [
    "import gzip\n",
    "from collections import defaultdict\n",
    "from sklearn import linear_model\n",
    "import csv\n",
    "\n",
    "def readGz(path):\n",
    "    for l in gzip.open(path, 'rt'):\n",
    "        yield eval(l)\n",
    "\n",
    "def readCSV(path):\n",
    "    f = gzip.open(path, 'rt')\n",
    "    c = csv.reader(f)\n",
    "    header = next(c)\n",
    "    for l in c:\n",
    "        d = dict(zip(header,l))\n",
    "        yield d['user_id'],d['recipe_id'],d"
   ]
  },
  {
   "cell_type": "markdown",
   "metadata": {},
   "source": [
    "## Cook/Make prediction"
   ]
  },
  {
   "cell_type": "markdown",
   "metadata": {},
   "source": [
    "### Task 1"
   ]
  },
  {
   "cell_type": "code",
   "execution_count": 203,
   "metadata": {},
   "outputs": [],
   "source": [
    "reviews = []\n",
    "\n",
    "for _, _, review in readCSV(\"data/trainInteractions.csv.gz\"):\n",
    "  reviews.append(review)\n",
    "\n",
    "train_reviews = reviews[:400000]\n",
    "valid_reviews = reviews[400000:500000]"
   ]
  },
  {
   "cell_type": "code",
   "execution_count": 204,
   "metadata": {},
   "outputs": [],
   "source": [
    "## Making validation-set\n",
    "import random\n",
    "\n",
    "valid_recipes_per_user = defaultdict(set)\n",
    "recipes = set()\n",
    "for review in valid_reviews:\n",
    "    valid_recipes_per_user[review['user_id']].add(review['recipe_id'])\n",
    "    recipes.add(review['recipe_id'])\n",
    "recipes = list(recipes)\n",
    "\n",
    "valid_dict = defaultdict(int)\n",
    "for valid_review in valid_reviews:\n",
    "    user = valid_review['user_id']\n",
    "    recipe = valid_review['recipe_id']\n",
    "    valid_dict[(user, recipe)] =  1\n",
    "    neg_sample = random.choice(recipes)\n",
    "    while neg_sample in valid_recipes_per_user[user] or (user, neg_sample) in valid_dict.keys():\n",
    "        neg_sample = random.choice(recipes)\n",
    "    valid_dict[(user, neg_sample)] =  0"
   ]
  },
  {
   "cell_type": "code",
   "execution_count": 205,
   "metadata": {},
   "outputs": [],
   "source": [
    "recipe_count = defaultdict(int)\n",
    "total_cooked = 0\n",
    "\n",
    "for review in train_reviews:\n",
    "  recipe_count[review['recipe_id']] += 1\n",
    "  total_cooked += 1\n",
    "\n",
    "def most_popular_recipes(treshold_percentile):\n",
    "  most_popular = [(recipe_count[x], x) for x in recipe_count]\n",
    "  most_popular.sort()\n",
    "  most_popular.reverse()\n",
    "\n",
    "  predict_true = set()\n",
    "  count = 0\n",
    "  for num, recipe_id in most_popular:\n",
    "    count += num\n",
    "    predict_true.add(recipe_id)\n",
    "    if count > total_cooked*treshold_percentile: break\n",
    "  \n",
    "  return predict_true"
   ]
  },
  {
   "cell_type": "code",
   "execution_count": 206,
   "metadata": {},
   "outputs": [],
   "source": [
    "##Predict the validation set\n",
    "predict_true = most_popular_recipes(0.5)\n",
    "\n",
    "pred_valid_dict = defaultdict(int)\n",
    "for user, recipe in valid_dict.keys():\n",
    "    pred_valid_dict[(user, recipe)] = (int(recipe in predict_true))\n"
   ]
  },
  {
   "cell_type": "code",
   "execution_count": 207,
   "metadata": {},
   "outputs": [
    {
     "name": "stdout",
     "output_type": "stream",
     "text": [
      "Accuracy of baseline model: 0.613615\n"
     ]
    }
   ],
   "source": [
    "accuracy = sum((pred == valid) for pred, valid in zip(pred_valid_dict.values(), valid_dict.values()))/len(pred_valid_dict)\n",
    "print(f\"Accuracy of baseline model: {accuracy}\")"
   ]
  },
  {
   "cell_type": "markdown",
   "metadata": {},
   "source": [
    "### Task 2"
   ]
  },
  {
   "cell_type": "code",
   "execution_count": 208,
   "metadata": {},
   "outputs": [],
   "source": [
    "accuracies = {}\n",
    "\n",
    "for i in range(20, 80 + 1):\n",
    "    treshold_percentile = float(i)/100\n",
    "    \n",
    "    predict_true_2 = most_popular_recipes(treshold_percentile)\n",
    "\n",
    "    pred_valid_dict_2 = defaultdict(int)\n",
    "    for user, review in valid_dict.keys():\n",
    "        pred_valid_dict_2[(user, review)] = review in predict_true_2\n",
    "\n",
    "    accuracy = sum((pred == valid) for pred, valid in zip(pred_valid_dict_2.values(), valid_dict.values()))/len(valid_dict)\n",
    "    accuracies[treshold_percentile] = accuracy"
   ]
  },
  {
   "cell_type": "code",
   "execution_count": 209,
   "metadata": {},
   "outputs": [
    {
     "data": {
      "text/plain": [
       "[<matplotlib.lines.Line2D at 0x7f453175c250>]"
      ]
     },
     "execution_count": 209,
     "metadata": {},
     "output_type": "execute_result"
    },
    {
     "data": {
      "image/png": "[encoded data removed]",
      "text/plain": [
       "<Figure size 432x288 with 1 Axes>"
      ]
     },
     "metadata": {
      "needs_background": "light"
     },
     "output_type": "display_data"
    }
   ],
   "source": [
    "import matplotlib.pyplot as plt\n",
    "\n",
    "x_plot = [treshold_percentile for treshold_percentile in accuracies.keys()]\n",
    "y_plot = [acc for acc in accuracies.values()]\n",
    "\n",
    "plt.xlabel(\"Treshold percentile\")\n",
    "plt.ylabel(\"Accuracy\")\n",
    "plt.plot(x_plot, y_plot)"
   ]
  },
  {
   "cell_type": "code",
   "execution_count": 210,
   "metadata": {},
   "outputs": [
    {
     "name": "stdout",
     "output_type": "stream",
     "text": [
      "Based on the graph and output you can see that the optimal treshold \n",
      "lies at 0.46. You then get an accauracy of 0.61442, which \n",
      "is marginally better than the baseline.\n"
     ]
    }
   ],
   "source": [
    "predict_true_2 = most_popular_recipes(0.46)\n",
    "\n",
    "\n",
    "pred_valid_dict_2 = defaultdict(int)\n",
    "for user, review in valid_dict.keys():\n",
    "    pred_valid_dict_2[(user, review)] = review in predict_true_2\n",
    "\n",
    "accuracy = sum((pred == valid) for pred, valid in zip(pred_valid_dict_2.values(), valid_dict.values()))/len(valid_dict)\n",
    "print(f\"Based on the graph and output you can see that the optimal treshold \\nlies at 0.46. You then get an accauracy of {accuracy}, which \\nis marginally better than the baseline.\")\n"
   ]
  },
  {
   "cell_type": "markdown",
   "metadata": {},
   "source": [
    "### Task 3"
   ]
  },
  {
   "cell_type": "code",
   "execution_count": 211,
   "metadata": {},
   "outputs": [],
   "source": [
    "def Jaccard(s1, s2):\n",
    "    numerator = len(s1.intersection(s2))\n",
    "    denominator = len(s1.union(s2))\n",
    "    if(denominator == 0):\n",
    "        return 0\n",
    "    return numerator/denominator"
   ]
  },
  {
   "cell_type": "code",
   "execution_count": 214,
   "metadata": {},
   "outputs": [],
   "source": [
    "train_recipes_per_user = defaultdict(set)\n",
    "train_users_per_recipe = defaultdict(set)\n",
    "for review in train_reviews:\n",
    "    user = review['user_id']\n",
    "    recipe = review['recipe_id']\n",
    "    train_recipes_per_user[user].add(recipe)\n",
    "    train_users_per_recipe[recipe].add(user)"
   ]
  },
  {
   "cell_type": "code",
   "execution_count": 215,
   "metadata": {},
   "outputs": [],
   "source": [
    "def max_Jaccard(user, recipe):\n",
    "    max_similarity = 0\n",
    "    for other_recipe in train_recipes_per_user[user]:\n",
    "        jac = Jaccard(train_users_per_recipe[recipe], train_users_per_recipe[other_recipe])\n",
    "        if jac > max_similarity:\n",
    "            max_similarity = jac\n",
    "    return max_similarity"
   ]
  },
  {
   "cell_type": "code",
   "execution_count": 216,
   "metadata": {},
   "outputs": [],
   "source": [
    "maximum_jaccard = defaultdict(int)\n",
    "for user, recipe in valid_dict.keys():\n",
    "    maximum_jaccard[(user, recipe)] = max_Jaccard(user, recipe)"
   ]
  },
  {
   "cell_type": "code",
   "execution_count": 217,
   "metadata": {},
   "outputs": [],
   "source": [
    "def predict_jaccard(treshold):\n",
    "    pred_valid_dict_3 = defaultdict(int)\n",
    "    for user, recipe in valid_dict.keys():\n",
    "        max_jac = maximum_jaccard[(user, recipe)]\n",
    "        pred_valid_dict_3[user, recipe] = max_jac > treshold\n",
    "    return pred_valid_dict_3"
   ]
  },
  {
   "cell_type": "code",
   "execution_count": 218,
   "metadata": {},
   "outputs": [],
   "source": [
    "accuracies = {}\n",
    "tresholds = [float(i)/10 for i in range(20,160)]\n",
    "for treshold in tresholds:\n",
    "    pred_dict = predict_jaccard(treshold/1000)\n",
    "    accuracy = sum((pred == valid) for pred, valid in zip(pred_dict.values(), valid_dict.values()))/len(valid_dict)\n",
    "    accuracies[treshold/1000] = accuracy"
   ]
  },
  {
   "cell_type": "code",
   "execution_count": 219,
   "metadata": {},
   "outputs": [
    {
     "data": {
      "text/plain": [
       "[<matplotlib.lines.Line2D at 0x7f452b39f040>]"
      ]
     },
     "execution_count": 219,
     "metadata": {},
     "output_type": "execute_result"
    },
    {
     "data": {
      "image/png": "[encoded data removed]",
      "text/plain": [
       "<Figure size 432x288 with 1 Axes>"
      ]
     },
     "metadata": {
      "needs_background": "light"
     },
     "output_type": "display_data"
    }
   ],
   "source": [
    "x_plot = [treshold for treshold in accuracies.keys()]\n",
    "y_plot = [acc for acc in accuracies.values()]\n",
    "\n",
    "plt.xlabel(\"Treshold\")\n",
    "plt.ylabel(\"Accuracy\")\n",
    "plt.plot(x_plot, y_plot)"
   ]
  },
  {
   "cell_type": "code",
   "execution_count": 220,
   "metadata": {},
   "outputs": [
    {
     "name": "stdout",
     "output_type": "stream",
     "text": [
      "The best accuracy with Jaccard similarity was 0.59922, with a treshold of 0.008\n"
     ]
    }
   ],
   "source": [
    "pred_dict = predict_jaccard(0.008)\n",
    "accuracy = sum((pred == valid) for pred, valid in zip(pred_dict.values(), valid_dict.values()))/len(valid_dict)\n",
    "\n",
    "print(f\"The best accuracy with Jaccard similarity was {accuracy}, with a treshold of {0.008}\")"
   ]
  },
  {
   "cell_type": "markdown",
   "metadata": {},
   "source": [
    "### Task 4"
   ]
  },
  {
   "cell_type": "code",
   "execution_count": 221,
   "metadata": {},
   "outputs": [],
   "source": [
    "def pred_jac_pop(jac_treshold, pop_treshold, prediction_list):\n",
    "    pred_dict = defaultdict(int)\n",
    "    N_most_popular = most_popular_recipes(pop_treshold)\n",
    "    for user, recipe in prediction_list:\n",
    "        max_jac = maximum_jaccard[(user, recipe)]\n",
    "\n",
    "        if max_jac > jac_treshold or recipe in N_most_popular:\n",
    "            pred_dict[(user, recipe)] = 1\n",
    "        else:\n",
    "            pred_dict[(user, recipe)] = 0\n",
    "    \n",
    "    return pred_dict\n"
   ]
  },
  {
   "cell_type": "code",
   "execution_count": 222,
   "metadata": {},
   "outputs": [
    {
     "name": "stdout",
     "output_type": "stream",
     "text": [
      "By combining the best tresholds from the two previous tasks, I managed to improve the predictor from task 3.\n",
      "The performance on the validation set had an accuracy of 0.605275\n"
     ]
    }
   ],
   "source": [
    "jac_treshold = 0.008\n",
    "pop_treshold = 0.46\n",
    "\n",
    "pred_valid_dict_4 = pred_jac_pop(jac_treshold, pop_treshold, pred_dict.keys())\n",
    "\n",
    "accuracy = sum((pred == valid) for pred, valid in zip(pred_valid_dict_4.values(), valid_dict.values()))/len(valid_dict)\n",
    "print(f\"By combining the best tresholds from the two previous tasks, I managed to improve the predictor from task 3.\")\n",
    "print(f\"The performance on the validation set had an accuracy of {accuracy}\")"
   ]
  },
  {
   "cell_type": "markdown",
   "metadata": {},
   "source": [
    "### Task 5"
   ]
  },
  {
   "cell_type": "code",
   "execution_count": 223,
   "metadata": {},
   "outputs": [],
   "source": [
    "header = \"\"\n",
    "test_list = []\n",
    "for line in open(\"data/stub_Made.txt\"):\n",
    "    if line.startswith(\"user_id\"):\n",
    "        header = line\n",
    "        continue\n",
    "    user, recipe = line.strip().split('-')\n",
    "    test_list.append((user, recipe))\n",
    "\n",
    "jac_treshold = 0.008\n",
    "pop_treshold = 0.46\n",
    "pred_test_dict = pred_jac_pop(jac_treshold, pop_treshold, test_list)\n",
    "\n",
    "predictions = open(\"data/predictions_Made.txt\", 'w')\n",
    "predictions.write(header)\n",
    "for key, pred in pred_test_dict.items():\n",
    "    user, recipe = key\n",
    "    predictions.write(f\"{user}-{recipe},{pred}\\n\")"
   ]
  },
  {
   "cell_type": "markdown",
   "metadata": {},
   "source": [
    "Solution uploaded to Kaggle, with an impressive prediction of 67%(!!), quite an improvement from the validation set. My Kaggle user name is henriklarssonhestnes, with Henrik Larsson Hestnes as display name."
   ]
  },
  {
   "cell_type": "markdown",
   "metadata": {},
   "source": [
    "## Rating prediction"
   ]
  },
  {
   "cell_type": "markdown",
   "metadata": {},
   "source": [
    "### Task 9"
   ]
  },
  {
   "cell_type": "code",
   "execution_count": 224,
   "metadata": {},
   "outputs": [],
   "source": [
    "reviews = []\n",
    "\n",
    "for _, _, review in readCSV(\"data/trainInteractions.csv.gz\"):\n",
    "  reviews.append(review)\n",
    "\n",
    "train_reviews = reviews[:400000]\n",
    "valid_reviews = reviews[400000:500000]"
   ]
  },
  {
   "cell_type": "code",
   "execution_count": 232,
   "metadata": {},
   "outputs": [],
   "source": [
    "valid_dict = defaultdict(int)\n",
    "for valid_review in valid_reviews:\n",
    "    user = valid_review['user_id']\n",
    "    recipe = valid_review['recipe_id']\n",
    "    rating = valid_review['rating']\n",
    "    valid_dict[(user, recipe)] =  int(rating)"
   ]
  },
  {
   "cell_type": "code",
   "execution_count": 234,
   "metadata": {},
   "outputs": [],
   "source": [
    "users_per_recipe = defaultdict(set)\n",
    "recipes_per_user = defaultdict(set)\n",
    "train_dict = defaultdict(int)\n",
    "for train_review in train_reviews:\n",
    "    user = train_review['user_id']\n",
    "    recipe = train_review['recipe_id']\n",
    "    rating = train_review['rating']\n",
    "    train_dict[(user, recipe)] =  int(rating)\n",
    "    recipes_per_user[user].add(recipe)\n",
    "    users_per_recipe[recipe].add(user)"
   ]
  },
  {
   "cell_type": "code",
   "execution_count": 299,
   "metadata": {},
   "outputs": [],
   "source": [
    "N = len(train_dict)"
   ]
  },
  {
   "cell_type": "code",
   "execution_count": 283,
   "metadata": {},
   "outputs": [],
   "source": [
    "def calculate_alpha(data_dict, beta_user_dict, beta_item_dict, N):\n",
    "    sum = 0\n",
    "    for (user, item), rating in data_dict.items():\n",
    "        sum += rating - (beta_user_dict[user] + beta_item_dict[item])\n",
    "    return sum/N\n",
    "\n",
    "def calculate_beta_user(data_dict, items_per_user, alpha, beta_item_dict, lamb):\n",
    "    beta_user_dict = {}\n",
    "    for user, items in items_per_user.items():\n",
    "        sum = 0\n",
    "        for item in items:\n",
    "            rating = data_dict[(user, item)]\n",
    "            beta_item = beta_item_dict[item]\n",
    "            sum += rating - (alpha +beta_item)\n",
    "        beta_user = sum / (lamb + len(items_per_user[user]))\n",
    "        beta_user_dict[user] = beta_user\n",
    "    return beta_user_dict\n",
    "\n",
    "def calculate_beta_item(data_dict, users_per_item, alpha, beta_user_dict, lamb):\n",
    "    beta_item_dict = {}\n",
    "    for item, users in users_per_item.items():\n",
    "        sum = 0\n",
    "        for user in users:\n",
    "            rating = data_dict[(user, item)]\n",
    "            beta_user = beta_user_dict[user]\n",
    "            sum += rating - (alpha + beta_user)\n",
    "        beta_item = sum/(lamb + len(users_per_item[item]))\n",
    "        beta_item_dict[item] = beta_item\n",
    "    return beta_item_dict"
   ]
  },
  {
   "cell_type": "code",
   "execution_count": 315,
   "metadata": {},
   "outputs": [],
   "source": [
    "beta_user_dict = {user:0 for user in recipes_per_user.keys()}\n",
    "beta_recipe_dict = {recipe:0 for recipe in users_per_recipe.keys()}\n",
    "x=[]\n",
    "y_alpha = []\n",
    "y_bu = []\n",
    "y_bi = []\n",
    "\n",
    "lamb = 1\n",
    "for i in range(250):\n",
    "    alpha = calculate_alpha(train_dict, beta_user_dict, beta_recipe_dict, N)\n",
    "    beta_user_dict = calculate_beta_user(train_dict, recipes_per_user, alpha, beta_recipe_dict, lamb)\n",
    "    beta_recipe_dict = calculate_beta_item(train_dict, users_per_recipe, alpha, beta_user_dict, lamb)\n",
    "    x.append(i)\n",
    "    y_alpha.append(alpha)\n",
    "    y_bu.append(beta_user_dict['88348277'])\n",
    "    y_bi.append(beta_recipe_dict['03969194'])\n"
   ]
  },
  {
   "cell_type": "code",
   "execution_count": 296,
   "metadata": {},
   "outputs": [
    {
     "data": {
      "text/plain": [
       "<matplotlib.legend.Legend at 0x7f44faa3f1f0>"
      ]
     },
     "execution_count": 296,
     "metadata": {},
     "output_type": "execute_result"
    },
    {
     "data": {
      "image/png": "[encoded data removed]",
      "text/plain": [
       "<Figure size 432x288 with 1 Axes>"
      ]
     },
     "metadata": {
      "needs_background": "light"
     },
     "output_type": "display_data"
    }
   ],
   "source": [
    "plt.xlabel(\"Iteration\")\n",
    "plt.plot(x, y_alpha, label='Alpha')\n",
    "plt.legend()"
   ]
  },
  {
   "cell_type": "code",
   "execution_count": 297,
   "metadata": {},
   "outputs": [
    {
     "data": {
      "text/plain": [
       "<matplotlib.legend.Legend at 0x7f44fa9f3130>"
      ]
     },
     "execution_count": 297,
     "metadata": {},
     "output_type": "execute_result"
    },
    {
     "data": {
      "image/png": "[encoded data removed]",
      "text/plain": [
       "<Figure size 432x288 with 1 Axes>"
      ]
     },
     "metadata": {
      "needs_background": "light"
     },
     "output_type": "display_data"
    }
   ],
   "source": [
    "plt.xlabel(\"Iteration\")\n",
    "plt.plot(x, y_bu, label='Beta user 88348277')\n",
    "plt.legend()"
   ]
  },
  {
   "cell_type": "code",
   "execution_count": 298,
   "metadata": {},
   "outputs": [
    {
     "data": {
      "text/plain": [
       "<matplotlib.legend.Legend at 0x7f44fb034670>"
      ]
     },
     "execution_count": 298,
     "metadata": {},
     "output_type": "execute_result"
    },
    {
     "data": {
      "image/png": "[encoded data removed]",
      "text/plain": [
       "<Figure size 432x288 with 1 Axes>"
      ]
     },
     "metadata": {
      "needs_background": "light"
     },
     "output_type": "display_data"
    }
   ],
   "source": [
    "plt.xlabel(\"Iteration\")\n",
    "plt.plot(x, y_bi, label='Beta item 03969194')\n",
    "plt.legend()"
   ]
  },
  {
   "cell_type": "code",
   "execution_count": 305,
   "metadata": {},
   "outputs": [],
   "source": [
    "def MSE(predicted, validation):\n",
    "    mse = 0\n",
    "    for (user, recipe), review in predicted.items():\n",
    "        mse += (review - validation[(user, recipe)])**2\n",
    "    return mse/len(predicted)"
   ]
  },
  {
   "cell_type": "code",
   "execution_count": 304,
   "metadata": {},
   "outputs": [],
   "source": [
    "pred_valid_dict_9 = defaultdict(int)\n",
    "for user, recipe in valid_dict.keys():\n",
    "    beta_user = beta_user_dict[user] if user in beta_user_dict else 0\n",
    "    beta_recipe = beta_recipe_dict[recipe] if recipe in beta_recipe_dict else 0\n",
    "    pred_valid_dict_9[(user, recipe)] = alpha + beta_user + beta_recipe"
   ]
  },
  {
   "cell_type": "code",
   "execution_count": 309,
   "metadata": {},
   "outputs": [
    {
     "name": "stdout",
     "output_type": "stream",
     "text": [
      "MSE on the validation set: 0.8803365761991694\n"
     ]
    }
   ],
   "source": [
    "mse = MSE(pred_valid_dict_9, valid_dict)\n",
    "print(f\"MSE on the validation set: {mse}\")"
   ]
  },
  {
   "cell_type": "markdown",
   "metadata": {},
   "source": [
    "### Task 10"
   ]
  },
  {
   "cell_type": "code",
   "execution_count": 314,
   "metadata": {},
   "outputs": [
    {
     "name": "stdout",
     "output_type": "stream",
     "text": [
      "USER WITH SMALLEST BETA VALUE \n",
      "User ID: 33431946, Beta: -4.380481082331884\n",
      "\n",
      "USER WITH LARGEST BETA VALUE \n",
      "User ID: 87153225, Beta: 1.1535736562941719\n",
      "\n",
      "RECIPE WITH SMALLEST BETA VALUE \n",
      "User ID: 33777570, Beta: -3.3635207273494365\n",
      "\n",
      "RECIPE WITH LARGEST BETA VALUE \n",
      "User ID: 14725150, Beta: 1.7529115477436843\n"
     ]
    }
   ],
   "source": [
    "import math\n",
    "\n",
    "user_lowest_value = math.inf\n",
    "user_lowest_id = 0\n",
    "user_highest_value = -math.inf\n",
    "user_highest_id = 0\n",
    "\n",
    "for user_id, beta_value in beta_user_dict.items():\n",
    "    if beta_value > user_highest_value:\n",
    "        user_highest_value = beta_value\n",
    "        user_highest_id = user_id\n",
    "    if beta_value < user_lowest_value:\n",
    "        user_lowest_value = beta_value\n",
    "        user_lowest_id = user_id\n",
    "\n",
    "print(f\"USER WITH SMALLEST BETA VALUE \\nUser ID: {user_lowest_id}, Beta: {user_lowest_value}\")\n",
    "print(f\"\\nUSER WITH LARGEST BETA VALUE \\nUser ID: {user_highest_id}, Beta: {user_highest_value}\")\n",
    "\n",
    "\n",
    "recipe_lowest_value = math.inf\n",
    "recipe_lowest_id = 0\n",
    "recipe_highest_value = -math.inf\n",
    "recipe_highest_id = 0\n",
    "\n",
    "for user_id, beta_value in beta_recipe_dict.items():\n",
    "    if beta_value > recipe_highest_value:\n",
    "        recipe_highest_value = beta_value\n",
    "        recipe_highest_id = user_id\n",
    "    if beta_value < recipe_lowest_value:\n",
    "        recipe_lowest_value = beta_value\n",
    "        recipe_lowest_id = user_id\n",
    "\n",
    "print(f\"\\nRECIPE WITH SMALLEST BETA VALUE \\nUser ID: {recipe_lowest_id}, Beta: {recipe_lowest_value}\")\n",
    "print(f\"\\nRECIPE WITH LARGEST BETA VALUE \\nUser ID: {recipe_highest_id}, Beta: {recipe_highest_value}\")\n"
   ]
  },
  {
   "cell_type": "markdown",
   "metadata": {},
   "source": [
    "### Task 11"
   ]
  },
  {
   "cell_type": "code",
   "execution_count": 316,
   "metadata": {},
   "outputs": [
    {
     "name": "stdout",
     "output_type": "stream",
     "text": [
      "MSE on the validation set with lambda=0.01: 1.024943027680394\n",
      "MSE on the validation set with lambda=0.1: 0.9916221037025\n",
      "MSE on the validation set with lambda=1: 0.8803862944245333\n",
      "MSE on the validation set with lambda=10: 0.8198083327275589\n"
     ]
    }
   ],
   "source": [
    "## Tuning the lambda parameter by coarse-tuning\n",
    "lamb = [0.01, 0.1, 1, 10]\n",
    "\n",
    "for l in lamb:\n",
    "    beta_user_dict = {user:0 for user in recipes_per_user.keys()}\n",
    "    beta_recipe_dict = {recipe:0 for recipe in users_per_recipe.keys()}\n",
    "    for i in range(100):\n",
    "        alpha = calculate_alpha(train_dict, beta_user_dict, beta_recipe_dict, N)\n",
    "        beta_user_dict = calculate_beta_user(train_dict, recipes_per_user, alpha, beta_recipe_dict, l)\n",
    "        beta_recipe_dict = calculate_beta_item(train_dict, users_per_recipe, alpha, beta_user_dict, l)\n",
    "    \n",
    "    pred_valid_dict_11 = defaultdict(int)\n",
    "    for user, recipe in valid_dict.keys():\n",
    "        beta_user = beta_user_dict[user] if user in beta_user_dict else 0\n",
    "        beta_recipe = beta_recipe_dict[recipe] if recipe in beta_recipe_dict else 0\n",
    "        pred_valid_dict_11[(user, recipe)] = alpha + beta_user + beta_recipe\n",
    "    \n",
    "    mse = MSE(pred_valid_dict_11, valid_dict)\n",
    "\n",
    "    print(f\"MSE on the validation set with lambda={l}: {mse}\")"
   ]
  },
  {
   "cell_type": "code",
   "execution_count": 317,
   "metadata": {},
   "outputs": [
    {
     "name": "stdout",
     "output_type": "stream",
     "text": [
      "MSE on the validation set with lambda=5: 0.8251550501406563\n",
      "MSE on the validation set with lambda=10: 0.8198083327275589\n",
      "MSE on the validation set with lambda=15: 0.8206888107391213\n",
      "MSE on the validation set with lambda=20: 0.8227300591931039\n"
     ]
    }
   ],
   "source": [
    "## Tuning the lambda parameter by coarse-tuning\n",
    "lamb = [5, 10, 15, 20]\n",
    "\n",
    "for l in lamb:\n",
    "    beta_user_dict = {user:0 for user in recipes_per_user.keys()}\n",
    "    beta_recipe_dict = {recipe:0 for recipe in users_per_recipe.keys()}\n",
    "    for i in range(100):\n",
    "        alpha = calculate_alpha(train_dict, beta_user_dict, beta_recipe_dict, N)\n",
    "        beta_user_dict = calculate_beta_user(train_dict, recipes_per_user, alpha, beta_recipe_dict, l)\n",
    "        beta_recipe_dict = calculate_beta_item(train_dict, users_per_recipe, alpha, beta_user_dict, l)\n",
    "    \n",
    "    pred_valid_dict_11 = defaultdict(int)\n",
    "    for user, recipe in valid_dict.keys():\n",
    "        beta_user = beta_user_dict[user] if user in beta_user_dict else 0\n",
    "        beta_recipe = beta_recipe_dict[recipe] if recipe in beta_recipe_dict else 0\n",
    "        pred_valid_dict_11[(user, recipe)] = alpha + beta_user + beta_recipe\n",
    "    \n",
    "    mse = MSE(pred_valid_dict_11, valid_dict)\n",
    "\n",
    "    print(f\"MSE on the validation set with lambda={l}: {mse}\")"
   ]
  },
  {
   "cell_type": "code",
   "execution_count": 318,
   "metadata": {},
   "outputs": [
    {
     "name": "stdout",
     "output_type": "stream",
     "text": [
      "MSE on the validation set with lambda=9: 0.8200211338981331\n",
      "MSE on the validation set with lambda=9.5: 0.8198874318795855\n",
      "MSE on the validation set with lambda=10: 0.8198083327275589\n",
      "MSE on the validation set with lambda=10.5: 0.8197752008430802\n",
      "MSE on the validation set with lambda=11: 0.8197809489122868\n"
     ]
    }
   ],
   "source": [
    "## Tuning the lambda parameter by coarse-tuning\n",
    "lamb = [9, 9.5, 10, 10.5, 11]\n",
    "\n",
    "for l in lamb:\n",
    "    beta_user_dict = {user:0 for user in recipes_per_user.keys()}\n",
    "    beta_recipe_dict = {recipe:0 for recipe in users_per_recipe.keys()}\n",
    "    for i in range(100):\n",
    "        alpha = calculate_alpha(train_dict, beta_user_dict, beta_recipe_dict, N)\n",
    "        beta_user_dict = calculate_beta_user(train_dict, recipes_per_user, alpha, beta_recipe_dict, l)\n",
    "        beta_recipe_dict = calculate_beta_item(train_dict, users_per_recipe, alpha, beta_user_dict, l)\n",
    "    \n",
    "    pred_valid_dict_11 = defaultdict(int)\n",
    "    for user, recipe in valid_dict.keys():\n",
    "        beta_user = beta_user_dict[user] if user in beta_user_dict else 0\n",
    "        beta_recipe = beta_recipe_dict[recipe] if recipe in beta_recipe_dict else 0\n",
    "        pred_valid_dict_11[(user, recipe)] = alpha + beta_user + beta_recipe\n",
    "    \n",
    "    mse = MSE(pred_valid_dict_11, valid_dict)\n",
    "\n",
    "    print(f\"MSE on the validation set with lambda={l}: {mse}\")"
   ]
  },
  {
   "cell_type": "code",
   "execution_count": 321,
   "metadata": {},
   "outputs": [
    {
     "name": "stdout",
     "output_type": "stream",
     "text": [
      "After this trial and error procedure, I have found that the best MSE is with lambda=10.5\n",
      "MSE on the validation set with lambda=10.5: 0.8197809488941853\n"
     ]
    }
   ],
   "source": [
    "print(\"After this trial and error procedure, I have found that the best MSE is with lambda=10.5\")\n",
    "\n",
    "lamb = 11\n",
    "for i in range(100):\n",
    "    alpha = calculate_alpha(train_dict, beta_user_dict, beta_recipe_dict, N)\n",
    "    beta_user_dict = calculate_beta_user(train_dict, recipes_per_user, alpha, beta_recipe_dict, lamb)\n",
    "    beta_recipe_dict = calculate_beta_item(train_dict, users_per_recipe, alpha, beta_user_dict, lamb)\n",
    "\n",
    "pred_valid_dict_11 = defaultdict(int)\n",
    "for user, recipe in valid_dict.keys():\n",
    "    beta_user = beta_user_dict[user] if user in beta_user_dict else 0\n",
    "    beta_recipe = beta_recipe_dict[recipe] if recipe in beta_recipe_dict else 0\n",
    "    pred_valid_dict_11[(user, recipe)] = alpha + beta_user + beta_recipe\n",
    "\n",
    "mse = MSE(pred_valid_dict_11, valid_dict)\n",
    "\n",
    "print(f\"MSE on the validation set with lambda={10.5}: {mse}\")"
   ]
  },
  {
   "cell_type": "code",
   "execution_count": 324,
   "metadata": {},
   "outputs": [],
   "source": [
    "header = \"\"\n",
    "test_list = []\n",
    "for line in open(\"data/stub_Rated.txt\"):\n",
    "    if line.startswith(\"user_id\"):\n",
    "        header = line\n",
    "        continue\n",
    "    user, recipe = line.strip().split('-')\n",
    "    test_list.append((user, recipe))\n",
    "\n",
    "\n",
    "pred_test_dict = defaultdict(int)\n",
    "\n",
    "for (user, recipe) in test_list:\n",
    "    beta_user = beta_user_dict[user] if user in beta_user_dict else 0\n",
    "    beta_recipe = beta_recipe_dict[recipe] if recipe in beta_recipe_dict else 0\n",
    "    pred_test_dict[(user, recipe)] = alpha + beta_user + beta_recipe\n",
    "\n",
    "predictions = open(\"data/predictions_Rated.txt\", 'w')\n",
    "predictions.write(header)\n",
    "for key, pred in pred_test_dict.items():\n",
    "    user, recipe = key\n",
    "    predictions.write(f\"{user}-{recipe},{pred}\\n\")"
   ]
  },
  {
   "cell_type": "markdown",
   "metadata": {},
   "source": [
    "Solution uploaded to Kaggle, and got an MSE of 0.8291. My Kaggle user name is henriklarssonhestnes, with Henrik Larsson Hestnes as display name."
   ]
  }
 ],
 "metadata": {
  "interpreter": {
   "hash": "31f2aee4e71d21fbe5cf8b01ff0e069b9275f58929596ceb00d14d90e3e16cd6"
  },
  "kernelspec": {
   "display_name": "Python 3.8.10 64-bit",
   "name": "python3"
  },
  "language_info": {
   "codemirror_mode": {
    "name": "ipython",
    "version": 3
   },
   "file_extension": ".py",
   "mimetype": "text/x-python",
   "name": "python",
   "nbconvert_exporter": "python",
   "pygments_lexer": "ipython3",
   "version": "3.8.10"
  },
  "orig_nbformat": 2
 },
 "nbformat": 4,
 "nbformat_minor": 2
}
