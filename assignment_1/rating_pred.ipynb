{
 "cells": [
  {
   "cell_type": "markdown",
   "metadata": {},
   "source": [
    "# Baseline"
   ]
  },
  {
   "cell_type": "code",
   "execution_count": 1,
   "metadata": {},
   "outputs": [],
   "source": [
    "import gzip\n",
    "from collections import defaultdict\n",
    "from sklearn import linear_model\n",
    "import csv\n",
    "\n",
    "def readGz(path):\n",
    "    for l in gzip.open(path, 'rt'):\n",
    "        yield eval(l)\n",
    "\n",
    "def readCSV(path):\n",
    "    f = gzip.open(path, 'rt')\n",
    "    c = csv.reader(f)\n",
    "    header = next(c)\n",
    "    for l in c:\n",
    "        d = dict(zip(header,l))\n",
    "        yield d['user_id'],d['recipe_id'],d"
   ]
  },
  {
   "cell_type": "code",
   "execution_count": 2,
   "metadata": {},
   "outputs": [],
   "source": [
    "reviews = []\n",
    "\n",
    "for _, _, review in readCSV(\"data/trainInteractions.csv.gz\"):\n",
    "  reviews.append(review)\n",
    "\n",
    "train_reviews = reviews[:400000]\n",
    "valid_reviews = reviews[400000:500000]"
   ]
  },
  {
   "cell_type": "code",
   "execution_count": 3,
   "metadata": {},
   "outputs": [],
   "source": [
    "valid_dict = defaultdict(int)\n",
    "for valid_review in valid_reviews:\n",
    "    user = valid_review['user_id']\n",
    "    recipe = valid_review['recipe_id']\n",
    "    rating = valid_review['rating']\n",
    "    valid_dict[(user, recipe)] =  int(rating)"
   ]
  },
  {
   "cell_type": "code",
   "execution_count": 8,
   "metadata": {},
   "outputs": [],
   "source": [
    "users_per_recipe = defaultdict(set)\n",
    "recipes_per_user = defaultdict(set)\n",
    "train_dict = defaultdict(int)\n",
    "for train_review in reviews:\n",
    "    user = train_review['user_id']\n",
    "    recipe = train_review['recipe_id']\n",
    "    rating = train_review['rating']\n",
    "    train_dict[(user, recipe)] =  int(rating)\n",
    "    recipes_per_user[user].add(recipe)\n",
    "    users_per_recipe[recipe].add(user)"
   ]
  },
  {
   "cell_type": "code",
   "execution_count": 11,
   "metadata": {},
   "outputs": [],
   "source": [
    "N = len(train_dict)"
   ]
  },
  {
   "cell_type": "code",
   "execution_count": 12,
   "metadata": {},
   "outputs": [],
   "source": [
    "def calculate_alpha(data_dict, beta_user_dict, beta_item_dict, N):\n",
    "    sum = 0\n",
    "    for (user, item), rating in data_dict.items():\n",
    "        sum += rating - (beta_user_dict[user] + beta_item_dict[item])\n",
    "    return sum/N\n",
    "\n",
    "def calculate_beta_user(data_dict, items_per_user, alpha, beta_item_dict, lamb):\n",
    "    beta_user_dict = {}\n",
    "    for user, items in items_per_user.items():\n",
    "        sum = 0\n",
    "        for item in items:\n",
    "            rating = data_dict[(user, item)]\n",
    "            beta_item = beta_item_dict[item]\n",
    "            sum += rating - (alpha +beta_item)\n",
    "        beta_user = sum / (lamb + len(items_per_user[user]))\n",
    "        beta_user_dict[user] = beta_user\n",
    "    return beta_user_dict\n",
    "\n",
    "def calculate_beta_item(data_dict, users_per_item, alpha, beta_user_dict, lamb):\n",
    "    beta_item_dict = {}\n",
    "    for item, users in users_per_item.items():\n",
    "        sum = 0\n",
    "        for user in users:\n",
    "            rating = data_dict[(user, item)]\n",
    "            beta_user = beta_user_dict[user]\n",
    "            sum += rating - (alpha + beta_user)\n",
    "        beta_item = sum/(lamb + len(users_per_item[item]))\n",
    "        beta_item_dict[item] = beta_item\n",
    "    return beta_item_dict"
   ]
  },
  {
   "cell_type": "code",
   "execution_count": 13,
   "metadata": {},
   "outputs": [],
   "source": [
    "def MSE(predicted, validation):\n",
    "    mse = 0\n",
    "    for (user, recipe), review in predicted.items():\n",
    "        mse += (review - validation[(user, recipe)])**2\n",
    "    return mse/len(predicted)"
   ]
  },
  {
   "cell_type": "code",
   "execution_count": 14,
   "metadata": {},
   "outputs": [
    {
     "name": "stdout",
     "output_type": "stream",
     "text": [
      "MSE on the validation set with lambda=10.5: 0.6971074688023815\n"
     ]
    }
   ],
   "source": [
    "lamb = 10.7\n",
    "beta_user_dict = {user:0 for user in recipes_per_user.keys()}\n",
    "beta_recipe_dict = {recipe:0 for recipe in users_per_recipe.keys()}\n",
    "\n",
    "for i in range(100):\n",
    "    alpha = calculate_alpha(train_dict, beta_user_dict, beta_recipe_dict, N)\n",
    "    beta_user_dict = calculate_beta_user(train_dict, recipes_per_user, alpha, beta_recipe_dict, lamb)\n",
    "    beta_recipe_dict = calculate_beta_item(train_dict, users_per_recipe, alpha, beta_user_dict, lamb)\n",
    "\n",
    "pred_valid_dict = defaultdict(int)\n",
    "for user, recipe in valid_dict.keys():\n",
    "    beta_user = beta_user_dict[user] if user in beta_user_dict else 0\n",
    "    beta_recipe = beta_recipe_dict[recipe] if recipe in beta_recipe_dict else 0\n",
    "    prediction = alpha + beta_user + beta_recipe\n",
    "    if prediction > 5:\n",
    "        pred_valid_dict[(user, recipe)] = 5\n",
    "    elif prediction < 0:\n",
    "        pred_valid_dict[(user, recipe)] = 0\n",
    "    else:\n",
    "        pred_valid_dict[(user, recipe)] = prediction\n",
    "\n",
    "\n",
    "mse = MSE(pred_valid_dict, valid_dict)\n",
    "\n",
    "print(f\"MSE on the validation set with lambda={10.5}: {mse}\")"
   ]
  },
  {
   "cell_type": "code",
   "execution_count": 32,
   "metadata": {},
   "outputs": [],
   "source": [
    "def predict(test_list):\n",
    "    pred_test_dict = defaultdict(int)\n",
    "    for (user, recipe) in test_list:\n",
    "        beta_user = beta_user_dict[user] if user in beta_user_dict else 0\n",
    "        beta_recipe = beta_recipe_dict[recipe] if recipe in beta_recipe_dict else 0\n",
    "        prediction = alpha + beta_user + beta_recipe\n",
    "        if prediction > 5:\n",
    "            pred_test_dict[(user, recipe)] = 5\n",
    "        elif prediction < 0:\n",
    "            pred_test_dict[(user, recipe)] = 0\n",
    "        elif abs(round(prediction)-prediction) < 0.008:\n",
    "            pred_test_dict[(user, recipe)] = round(prediction)\n",
    "        else:\n",
    "            pred_test_dict[(user, recipe)] = prediction\n",
    "    return pred_test_dict"
   ]
  },
  {
   "cell_type": "code",
   "execution_count": 31,
   "metadata": {},
   "outputs": [],
   "source": [
    "header = \"\"\n",
    "test_list = []\n",
    "for line in open(\"data/stub_Rated.txt\"):\n",
    "    if line.startswith(\"user_id\"):\n",
    "        header = line\n",
    "        continue\n",
    "    user, recipe = line.strip().split('-')\n",
    "    test_list.append((user, recipe))\n",
    "\n",
    "\n",
    "pred_test_dict = predict(test_list)\n",
    "\n",
    "predictions = open(\"data/predictions_Rated.txt\", 'w')\n",
    "predictions.write(header)\n",
    "for key, pred in pred_test_dict.items():\n",
    "    user, recipe = key\n",
    "    predictions.write(f\"{user}-{recipe},{pred}\\n\")\n"
   ]
  },
  {
   "cell_type": "markdown",
   "metadata": {},
   "source": [
    "## Surprise\n"
   ]
  },
  {
   "cell_type": "code",
   "execution_count": 64,
   "metadata": {},
   "outputs": [],
   "source": [
    "from surprise import SVD, Reader, Dataset\n",
    "from surprise.model_selection import train_test_split\n",
    "import pandas as pd\n",
    "\n",
    "df = pd.read_csv(\"data/trainInteractions.csv.gz\")\n",
    "\n",
    "reader = Reader(line_format='user item rating', sep='\\t')\n",
    "data = Dataset.load_from_df(df[['user_id','recipe_id', 'rating']], reader=reader)"
   ]
  },
  {
   "cell_type": "code",
   "execution_count": 192,
   "metadata": {},
   "outputs": [],
   "source": [
    "model = SVD()\n",
    "trainset, validationset = train_test_split(data, test_size=0.2)"
   ]
  },
  {
   "cell_type": "code",
   "execution_count": null,
   "metadata": {},
   "outputs": [],
   "source": []
  },
  {
   "cell_type": "code",
   "execution_count": 201,
   "metadata": {},
   "outputs": [],
   "source": [
    "model.fit(trainset)\n",
    "predictions = model.test(validationset)"
   ]
  },
  {
   "cell_type": "code",
   "execution_count": 203,
   "metadata": {},
   "outputs": [
    {
     "name": "stdout",
     "output_type": "stream",
     "text": [
      "0.8313158910940747\n"
     ]
    }
   ],
   "source": [
    "sse = 0\n",
    "for p in predictions:\n",
    "    sse += (p.r_ui - p.est)**2\n",
    "\n",
    "print(sse / len(predictions))"
   ]
  },
  {
   "cell_type": "code",
   "execution_count": 69,
   "metadata": {},
   "outputs": [],
   "source": [
    "header = \"\"\n",
    "test_list = []\n",
    "for line in open(\"data/stub_Rated.txt\"):\n",
    "    if line.startswith(\"user_id\"):\n",
    "        header = line\n",
    "        continue\n",
    "    user, recipe = line.strip().split('-')\n",
    "    test_list.append((user, recipe))\n",
    "\n",
    "testset = {(int(user_id), int(recipe_id), 0) for (user_id, recipe_id) in test_list}\n",
    "\n",
    "pred_test = model.test(testset)\n",
    "\n",
    "predictions = open(\"data/predictions_Rated.txt\", 'w')\n",
    "predictions.write(header)\n",
    "for elem in pred_test:\n",
    "    user, recipe, pred = str(elem.uid), str(elem.iid), elem.est\n",
    "    user = (8 - len(user))*\"0\" + user\n",
    "    recipe = (8 - len(recipe))*\"0\" + recipe\n",
    "    predictions.write(f\"{user}-{recipe},{pred}\\n\")"
   ]
  },
  {
   "cell_type": "markdown",
   "metadata": {},
   "source": [
    "## Latent factor model (Tensorflow)"
   ]
  },
  {
   "cell_type": "code",
   "execution_count": 70,
   "metadata": {},
   "outputs": [],
   "source": [
    "def parse(path):\n",
    "    g = gzip.open(path, 'r')\n",
    "    for l in g:\n",
    "        yield eval(l)"
   ]
  },
  {
   "cell_type": "code",
   "execution_count": 85,
   "metadata": {},
   "outputs": [],
   "source": [
    "df = pd.read_csv(\"data/trainInteractions.csv.gz\")\n",
    "\n",
    "users = [d for d in df['user_id']]\n",
    "recipes = [d for d in df['recipe_id']]\n",
    "ratings = [d for d in df['rating']]\n",
    "\n",
    "userIDs = {}\n",
    "recipeIDs = {}\n",
    "interactions = []\n",
    "\n",
    "for user, recipe, rating in zip(users, recipes, ratings):\n",
    "    if not user in userIDs: userIDs[user] = len(userIDs)\n",
    "    if not recipe in recipeIDs: recipeIDs[recipe] = len(recipeIDs)\n",
    "    interactions.append((user,recipe,rating))"
   ]
  },
  {
   "cell_type": "code",
   "execution_count": 87,
   "metadata": {},
   "outputs": [
    {
     "data": {
      "text/plain": [
       "500000"
      ]
     },
     "execution_count": 87,
     "metadata": {},
     "output_type": "execute_result"
    }
   ],
   "source": [
    "import random\n",
    "random.shuffle(interactions)\n",
    "len(interactions)"
   ]
  },
  {
   "cell_type": "code",
   "execution_count": 88,
   "metadata": {},
   "outputs": [],
   "source": [
    "train_interactions = interactions[:400000]\n",
    "valid_interactions = interactions[400000:]"
   ]
  },
  {
   "cell_type": "code",
   "execution_count": 89,
   "metadata": {},
   "outputs": [],
   "source": [
    "itemsPerUser = defaultdict(list)\n",
    "usersPerItem = defaultdict(list)\n",
    "for u,i,r in train_interactions:\n",
    "    itemsPerUser[u].append(i)\n",
    "    usersPerItem[i].append(u)"
   ]
  },
  {
   "cell_type": "code",
   "execution_count": 90,
   "metadata": {},
   "outputs": [],
   "source": [
    "mu = sum([r for _,_,r in train_interactions]) / len(train_interactions)"
   ]
  },
  {
   "cell_type": "code",
   "execution_count": 91,
   "metadata": {},
   "outputs": [
    {
     "name": "stderr",
     "output_type": "stream",
     "text": [
      "2021-11-12 22:58:11.522213: W tensorflow/stream_executor/platform/default/dso_loader.cc:64] Could not load dynamic library 'libcudart.so.11.0'; dlerror: libcudart.so.11.0: cannot open shared object file: No such file or directory\n",
      "2021-11-12 22:58:11.522242: I tensorflow/stream_executor/cuda/cudart_stub.cc:29] Ignore above cudart dlerror if you do not have a GPU set up on your machine.\n"
     ]
    }
   ],
   "source": [
    "import tensorflow as tf\n",
    "optimizer = tf.keras.optimizers.Adam(0.1)"
   ]
  },
  {
   "cell_type": "code",
   "execution_count": 98,
   "metadata": {},
   "outputs": [],
   "source": [
    "class LatentFactorModel(tf.keras.Model):\n",
    "    def __init__(self, mu, K, lamb):\n",
    "        super(LatentFactorModel, self).__init__()\n",
    "        # Initialize to average\n",
    "        self.alpha = tf.Variable(mu)\n",
    "        # Initialize to small random values\n",
    "        self.betaU = tf.Variable(tf.random.normal([len(userIDs)],stddev=0.001))\n",
    "        self.betaI = tf.Variable(tf.random.normal([len(recipeIDs)],stddev=0.001))\n",
    "        self.gammaU = tf.Variable(tf.random.normal([len(userIDs),K],stddev=0.001))\n",
    "        self.gammaI = tf.Variable(tf.random.normal([len(recipeIDs),K],stddev=0.001))\n",
    "        self.lamb = lamb\n",
    "\n",
    "    # Prediction for a single instance (useful for evaluation)\n",
    "    def predict(self, u, i):\n",
    "        p = self.alpha + self.betaU[u] + self.betaI[i] +\\\n",
    "            tf.tensordot(self.gammaU[u], self.gammaI[i], 1)\n",
    "        return p\n",
    "\n",
    "    # Regularizer\n",
    "    def reg(self):\n",
    "        return self.lamb * (tf.reduce_sum(self.betaU**2) +\\\n",
    "                            tf.reduce_sum(self.betaI**2) +\\\n",
    "                            tf.reduce_sum(self.gammaU**2) +\\\n",
    "                            tf.reduce_sum(self.gammaI**2))\n",
    "    \n",
    "    # Prediction for a sample of instances\n",
    "    def predictSample(self, sampleU, sampleI):\n",
    "        u = tf.convert_to_tensor(sampleU, dtype=tf.int32)\n",
    "        i = tf.convert_to_tensor(sampleI, dtype=tf.int32)\n",
    "        beta_u = tf.nn.embedding_lookup(self.betaU, u)\n",
    "        beta_i = tf.nn.embedding_lookup(self.betaI, i)\n",
    "        gamma_u = tf.nn.embedding_lookup(self.gammaU, u)\n",
    "        gamma_i = tf.nn.embedding_lookup(self.gammaI, i)\n",
    "        pred = self.alpha + beta_u + beta_i +\\\n",
    "               tf.reduce_sum(tf.multiply(gamma_u, gamma_i), 1)\n",
    "        return pred\n",
    "    \n",
    "    # Loss\n",
    "    def call(self, sampleU, sampleI, sampleR):\n",
    "        pred = self.predictSample(sampleU, sampleI)\n",
    "        r = tf.convert_to_tensor(sampleR, dtype=tf.float32)\n",
    "        return tf.nn.l2_loss(pred - r) / len(sampleR)"
   ]
  },
  {
   "cell_type": "code",
   "execution_count": 99,
   "metadata": {},
   "outputs": [],
   "source": [
    "modelLFM = LatentFactorModel(mu, 5, 0.00001)"
   ]
  },
  {
   "cell_type": "code",
   "execution_count": 100,
   "metadata": {},
   "outputs": [],
   "source": [
    "def trainingStep(model, interactions):\n",
    "    Nsamples = 50000\n",
    "    with tf.GradientTape() as tape:\n",
    "        sampleU, sampleI, sampleR = [], [], []\n",
    "        for _ in range(Nsamples):\n",
    "            u,i,r = random.choice(interactions)\n",
    "            sampleU.append(userIDs[u])\n",
    "            sampleI.append(recipeIDs[i])\n",
    "            sampleR.append(r)\n",
    "\n",
    "        loss = model(sampleU,sampleI,sampleR)\n",
    "        loss += model.reg()\n",
    "    gradients = tape.gradient(loss, model.trainable_variables)\n",
    "    optimizer.apply_gradients((grad, var) for\n",
    "                              (grad, var) in zip(gradients, model.trainable_variables)\n",
    "                              if grad is not None)\n",
    "    return loss.numpy()"
   ]
  },
  {
   "cell_type": "code",
   "execution_count": 101,
   "metadata": {},
   "outputs": [
    {
     "name": "stdout",
     "output_type": "stream",
     "text": [
      "iteration 10, objective = 0.4000813\n",
      "iteration 20, objective = 0.3919067\n",
      "iteration 30, objective = 0.39466333\n",
      "iteration 40, objective = 0.39993954\n",
      "iteration 50, objective = 0.40726262\n",
      "iteration 60, objective = 0.40791407\n",
      "iteration 70, objective = 0.39146918\n",
      "iteration 80, objective = 0.40565452\n",
      "iteration 90, objective = 0.39377075\n",
      "iteration 100, objective = 0.3961101\n"
     ]
    }
   ],
   "source": [
    "for i in range(100):\n",
    "    obj = trainingStep(modelLFM, train_interactions)\n",
    "    if (i % 10 == 9): print(\"iteration \" + str(i+1) + \", objective = \" + str(obj))"
   ]
  },
  {
   "cell_type": "code",
   "execution_count": 107,
   "metadata": {},
   "outputs": [
    {
     "name": "stdout",
     "output_type": "stream",
     "text": [
      "10000\n",
      "20000\n",
      "30000\n",
      "40000\n",
      "50000\n",
      "60000\n",
      "70000\n",
      "80000\n",
      "90000\n",
      "100000\n"
     ]
    }
   ],
   "source": [
    "pred_valid_dict = defaultdict(int)\n",
    "i = 0\n",
    "for user, recipe, rating in valid_interactions:\n",
    "    pred = modelLFM.predict(userIDs[user], recipeIDs[recipe]).numpy()\n",
    "    pred_valid_dict[(user, recipe)] = pred\n",
    "    i+=1\n",
    "\n"
   ]
  },
  {
   "cell_type": "code",
   "execution_count": 108,
   "metadata": {},
   "outputs": [],
   "source": [
    "valid_dict = defaultdict(int)\n",
    "for user, recipe, rating in valid_interactions:\n",
    "    valid_dict[(user, recipe)] = rating"
   ]
  },
  {
   "cell_type": "code",
   "execution_count": 109,
   "metadata": {},
   "outputs": [
    {
     "data": {
      "text/plain": [
       "0.8485252041790833"
      ]
     },
     "execution_count": 109,
     "metadata": {},
     "output_type": "execute_result"
    }
   ],
   "source": [
    "mse = MSE(pred_valid_dict, valid_dict)\n",
    "mse"
   ]
  },
  {
   "cell_type": "code",
   "execution_count": 110,
   "metadata": {},
   "outputs": [
    {
     "name": "stdout",
     "output_type": "stream",
     "text": [
      "MSE with factor=4 and rate=1e-06: 1.0251667164897809\n",
      "MSE with factor=4 and rate=5e-06: 0.8960743558739334\n",
      "MSE with factor=4 and rate=1.5e-05: 0.8397884594729242\n",
      "MSE with factor=4 and rate=2e-05: 0.8363532631079387\n",
      "MSE with factor=6 and rate=1e-06: 1.0182774160346437\n",
      "MSE with factor=6 and rate=5e-06: 0.903168768575282\n",
      "MSE with factor=6 and rate=1.5e-05: 0.8443399480144281\n",
      "MSE with factor=6 and rate=2e-05: 0.8395638914215693\n",
      "MSE with factor=7 and rate=1e-06: 1.0346710795690381\n",
      "MSE with factor=7 and rate=5e-06: 0.9012724151087284\n",
      "MSE with factor=7 and rate=1.5e-05: 0.8508002665567341\n",
      "MSE with factor=7 and rate=2e-05: 0.842742691194159\n",
      "MSE with factor=8 and rate=1e-06: 1.0586551410210274\n",
      "MSE with factor=8 and rate=5e-06: 0.9027758789650924\n",
      "MSE with factor=8 and rate=1.5e-05: 0.853021465336339\n",
      "MSE with factor=8 and rate=2e-05: 0.8478977345741846\n"
     ]
    }
   ],
   "source": [
    "factors = [4, 6, 7, 8]\n",
    "rates = [0.000001 ,0.000005, 0.000015, 0.00002]\n",
    "\n",
    "for factor in factors:\n",
    "    for rate in rates:\n",
    "        modelLFM = LatentFactorModel(mu, factor, rate)\n",
    "\n",
    "        for i in range(100):\n",
    "            obj = trainingStep(modelLFM, train_interactions)\n",
    "\n",
    "        pred_valid_dict = defaultdict(int)\n",
    "        for user, recipe, rating in valid_interactions:\n",
    "            pred = modelLFM.predict(userIDs[user], recipeIDs[recipe]).numpy()\n",
    "            pred_valid_dict[(user, recipe)] = pred\n",
    "\n",
    "        mse = MSE(pred_valid_dict, valid_dict)\n",
    "\n",
    "        print(f\"MSE with factor={factor} and rate={rate}: {mse}\")"
   ]
  },
  {
   "cell_type": "code",
   "execution_count": 112,
   "metadata": {},
   "outputs": [
    {
     "name": "stdout",
     "output_type": "stream",
     "text": [
      "MSE with factor=4 and rate=2.5e-05: 0.844711193449904\n"
     ]
    }
   ],
   "source": [
    "factors = [4]\n",
    "rates = [0.000025]\n",
    "\n",
    "for factor in factors:\n",
    "    for rate in rates:\n",
    "        modelLFM = LatentFactorModel(mu, factor, rate)\n",
    "\n",
    "        for i in range(100):\n",
    "            obj = trainingStep(modelLFM, train_interactions)\n",
    "\n",
    "        pred_valid_dict = defaultdict(int)\n",
    "        for user, recipe, rating in valid_interactions:\n",
    "            pred = modelLFM.predict(userIDs[user], recipeIDs[recipe]).numpy()\n",
    "            pred_valid_dict[(user, recipe)] = pred\n",
    "\n",
    "        mse = MSE(pred_valid_dict, valid_dict)\n",
    "\n",
    "        print(f\"MSE with factor={factor} and rate={rate}: {mse}\")"
   ]
  },
  {
   "cell_type": "markdown",
   "metadata": {},
   "source": [
    "## Complete latent factor model"
   ]
  },
  {
   "cell_type": "code",
   "execution_count": 217,
   "metadata": {},
   "outputs": [],
   "source": [
    "df = pd.read_csv(\"data/trainInteractions.csv.gz\")\n",
    "\n",
    "users = [d for d in df['user_id']]\n",
    "recipes = [d for d in df['recipe_id']]\n",
    "ratings = [d for d in df['rating']]\n",
    "\n",
    "rating_mean = sum(ratings)/len(ratings)\n",
    "always_predict_mean = [rating_mean]*len(train_reviews)"
   ]
  },
  {
   "cell_type": "code",
   "execution_count": 218,
   "metadata": {},
   "outputs": [],
   "source": [
    "import gzip\n",
    "from collections import defaultdict\n",
    "from sklearn import linear_model\n",
    "import csv\n",
    "\n",
    "def readGz(path):\n",
    "    for l in gzip.open(path, 'rt'):\n",
    "        yield eval(l)\n",
    "\n",
    "def readCSV(path):\n",
    "    f = gzip.open(path, 'rt')\n",
    "    c = csv.reader(f)\n",
    "    header = next(c)\n",
    "    for l in c:\n",
    "        d = dict(zip(header,l))\n",
    "        yield d['user_id'],d['recipe_id'],d"
   ]
  },
  {
   "cell_type": "code",
   "execution_count": 219,
   "metadata": {},
   "outputs": [],
   "source": [
    "reviews = []\n",
    "\n",
    "for _, _, review in readCSV(\"data/trainInteractions.csv.gz\"):\n",
    "  reviews.append(review)\n",
    "\n",
    "train_reviews = reviews[:400000]\n",
    "valid_reviews = reviews[400000:500000]"
   ]
  },
  {
   "cell_type": "code",
   "execution_count": 220,
   "metadata": {},
   "outputs": [],
   "source": [
    "userBiases = defaultdict(float)\n",
    "itemBiases = defaultdict(float)\n",
    "\n",
    "userGamma = {}\n",
    "itemGamma = {}"
   ]
  },
  {
   "cell_type": "code",
   "execution_count": 221,
   "metadata": {},
   "outputs": [],
   "source": [
    "reviewsPerUser = defaultdict(list)\n",
    "reviewsPerItem = defaultdict(list)\n",
    "\n",
    "for review in train_reviews:\n",
    "    user,recipe = review['user_id'], review['recipe_id']\n",
    "    reviewsPerUser[user].append(review)\n",
    "    reviewsPerItem[recipe].append(review)"
   ]
  },
  {
   "cell_type": "code",
   "execution_count": 222,
   "metadata": {},
   "outputs": [],
   "source": [
    "K = 2\n",
    "\n",
    "for u in reviewsPerUser:\n",
    "    userGamma[u] = [random.random() * 0.1 - 0.05 for k in range(K)]\n",
    "\n",
    "for i in reviewsPerItem:\n",
    "    itemGamma[i] = [random.random() * 0.1 - 0.05 for k in range(K)]"
   ]
  },
  {
   "cell_type": "code",
   "execution_count": 223,
   "metadata": {},
   "outputs": [],
   "source": [
    "nUsers = len(reviewsPerUser)\n",
    "nItems = len(reviewsPerItem)\n",
    "users = list(reviewsPerUser.keys())\n",
    "items = list(reviewsPerItem.keys())"
   ]
  },
  {
   "cell_type": "code",
   "execution_count": 224,
   "metadata": {},
   "outputs": [],
   "source": [
    "def unpack(theta):\n",
    "    global alpha\n",
    "    global userBiases\n",
    "    global itemBiases\n",
    "    global userGamma\n",
    "    global itemGamma\n",
    "    index = 0\n",
    "    alpha = theta[index]\n",
    "    index += 1\n",
    "    userBiases = dict(zip(users, theta[index:index+nUsers]))\n",
    "    index += nUsers\n",
    "    itemBiases = dict(zip(items, theta[index:index+nItems]))\n",
    "    index += nItems\n",
    "    for u in users:\n",
    "        userGamma[u] = theta[index:index+K]\n",
    "        index += K\n",
    "    for i in items:\n",
    "        itemGamma[i] = theta[index:index+K]\n",
    "        index += K"
   ]
  },
  {
   "cell_type": "code",
   "execution_count": 225,
   "metadata": {},
   "outputs": [],
   "source": [
    "def inner(x, y):\n",
    "    return sum([a*b for a,b in zip(x,y)])"
   ]
  },
  {
   "cell_type": "code",
   "execution_count": 226,
   "metadata": {},
   "outputs": [],
   "source": [
    "def pred(user, item):\n",
    "    return alpha + userBiases[user] + itemBiases[item] + inner(userGamma[user], itemGamma[item])"
   ]
  },
  {
   "cell_type": "code",
   "execution_count": 227,
   "metadata": {},
   "outputs": [],
   "source": [
    "#predictions = [pred(d['user_id'], d['recipe_id']) for d in train_reviews]\n"
   ]
  },
  {
   "cell_type": "code",
   "execution_count": 228,
   "metadata": {},
   "outputs": [],
   "source": [
    "def cost(theta, labels, lamb):\n",
    "    unpack(theta)\n",
    "    predictions = [pred(d['user_id'], d['recipe_id']) for d in train_reviews]\n",
    "    cost = MSE(predictions, labels)\n",
    "    print(\"MSE = \" + str(cost))\n",
    "    for u in users:\n",
    "        cost += lamb*userBiases[u]**2\n",
    "        for k in range(K):\n",
    "            cost += lamb*userGamma[u][k]**2\n",
    "    for i in items:\n",
    "        cost += lamb*itemBiases[i]**2\n",
    "        for k in range(K):\n",
    "            cost += lamb*itemGamma[i][k]**2\n",
    "    return cost"
   ]
  },
  {
   "cell_type": "code",
   "execution_count": 229,
   "metadata": {},
   "outputs": [],
   "source": [
    "import numpy\n",
    "\n",
    "def derivative(theta, labels, lamb):\n",
    "    unpack(theta)\n",
    "    N = len(train_reviews)\n",
    "    dalpha = 0\n",
    "    dUserBiases = defaultdict(float)\n",
    "    dItemBiases = defaultdict(float)\n",
    "    dUserGamma = {}\n",
    "    dItemGamma = {}\n",
    "    for u in reviewsPerUser:\n",
    "        dUserGamma[u] = [0.0 for k in range(K)]\n",
    "    for i in reviewsPerItem:\n",
    "        dItemGamma[i] = [0.0 for k in range(K)]\n",
    "    for d in train_reviews:\n",
    "        u,i = d['user_id'], d['recipe_id']\n",
    "        pred = prediction(u, i)\n",
    "        diff = pred - int(d['rating'])\n",
    "        dalpha += 2/N*diff\n",
    "        dUserBiases[u] += 2/N*diff\n",
    "        dItemBiases[i] += 2/N*diff\n",
    "        for k in range(K):\n",
    "            dUserGamma[u][k] += 2/N*itemGamma[i][k]*diff\n",
    "            dItemGamma[i][k] += 2/N*userGamma[u][k]*diff\n",
    "    for u in userBiases:\n",
    "        dUserBiases[u] += 2*lamb*userBiases[u]\n",
    "        for k in range(K):\n",
    "            dUserGamma[u][k] += 2*lamb*userGamma[u][k]\n",
    "    for i in itemBiases:\n",
    "        dItemBiases[i] += 2*lamb*itemBiases[i]\n",
    "        for k in range(K):\n",
    "            dItemGamma[i][k] += 2*lamb*itemGamma[i][k]\n",
    "    dtheta = [dalpha] + [dUserBiases[u] for u in users] + [dItemBiases[i] for i in items]\n",
    "    for u in users:\n",
    "        dtheta += dUserGamma[u]\n",
    "    for i in items:\n",
    "        dtheta += dItemGamma[i]\n",
    "    return numpy.array(dtheta)"
   ]
  },
  {
   "cell_type": "code",
   "execution_count": 230,
   "metadata": {},
   "outputs": [],
   "source": [
    "def MSE(predictions, labels):\n",
    "    differences = [(x-y)**2 for x,y in zip(predictions,labels)]\n",
    "    return sum(differences) / len(differences)"
   ]
  },
  {
   "cell_type": "code",
   "execution_count": 231,
   "metadata": {},
   "outputs": [
    {
     "data": {
      "text/plain": [
       "0.8987313600348047"
      ]
     },
     "execution_count": 231,
     "metadata": {},
     "output_type": "execute_result"
    }
   ],
   "source": [
    "\n",
    "MSE(always_predict_mean, labels)"
   ]
  },
  {
   "cell_type": "code",
   "execution_count": 233,
   "metadata": {},
   "outputs": [
    {
     "name": "stdout",
     "output_type": "stream",
     "text": [
      "MSE = 0.9000736097431962\n",
      "MSE = 0.9000565408868471\n",
      "MSE = 0.8999895138533285\n",
      "MSE = 0.8996174282145899\n",
      "MSE = 0.8994542761162203\n",
      "MSE = 0.8989648773961573\n",
      "MSE = 0.8987183355329932\n",
      "MSE = 0.898718373357114\n",
      "MSE = 0.8987183391339414\n"
     ]
    },
    {
     "data": {
      "text/plain": [
       "(array([ 4.58078847e+00, -8.19672958e-06, -7.68353151e-07, ...,\n",
       "        -1.52378259e-14,  2.30762908e-14, -1.43155992e-13]),\n",
       " 0.89872484856411,\n",
       " {'grad': array([ 4.64529462e-07,  7.54267441e-11, -3.60914257e-12, ...,\n",
       "         -3.19936130e-13,  4.84600660e-13, -3.00627249e-12]),\n",
       "  'task': 'CONVERGENCE: NORM_OF_PROJECTED_GRADIENT_<=_PGTOL',\n",
       "  'funcalls': 9,\n",
       "  'nit': 5,\n",
       "  'warnflag': 0})"
      ]
     },
     "execution_count": 233,
     "metadata": {},
     "output_type": "execute_result"
    }
   ],
   "source": [
    "import scipy\n",
    "\n",
    "labels = [int(d['rating']) for d in train_reviews]\n",
    "\n",
    "scipy.optimize.fmin_l_bfgs_b(cost, [alpha] + # Initialize alpha\n",
    "                                   [0.0]*(nUsers+nItems) + # Initialize beta\n",
    "                                   [random.random() * 0.1 - 0.05 for k in range(K*(nUsers+nItems))], # Gamma\n",
    "                             derivative, args = (labels, 10.5))"
   ]
  }
 ],
 "metadata": {
  "interpreter": {
   "hash": "df0893f56f349688326838aaeea0de204df53a132722cbd565e54b24a8fec5f6"
  },
  "kernelspec": {
   "display_name": "",
   "language": "python",
   "name": "python3"
  },
  "language_info": {
   "codemirror_mode": {
    "name": "ipython",
    "version": 3
   },
   "file_extension": ".py",
   "mimetype": "text/x-python",
   "name": "python",
   "nbconvert_exporter": "python",
   "pygments_lexer": "ipython3",
   "version": "3.8.10"
  },
  "orig_nbformat": 4
 },
 "nbformat": 4,
 "nbformat_minor": 2
}
