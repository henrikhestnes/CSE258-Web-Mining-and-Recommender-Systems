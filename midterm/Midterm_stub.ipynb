{
 "cells": [
  {
   "cell_type": "markdown",
   "metadata": {},
   "source": [
    "# Section 1 (Regression)"
   ]
  },
  {
   "cell_type": "code",
   "execution_count": 7,
   "metadata": {},
   "outputs": [],
   "source": [
    "import gzip\n",
    "from collections import defaultdict\n",
    "import math\n",
    "import scipy.optimize\n",
    "import numpy\n",
    "import string\n",
    "import random\n",
    "from sklearn import linear_model"
   ]
  },
  {
   "cell_type": "code",
   "execution_count": 8,
   "metadata": {},
   "outputs": [],
   "source": [
    "def parse(f):\n",
    "    for l in gzip.open(f):\n",
    "        yield eval(l)"
   ]
  },
  {
   "cell_type": "code",
   "execution_count": 9,
   "metadata": {},
   "outputs": [],
   "source": [
    "# Download data from below:\n",
    "# https://cseweb.ucsd.edu/classes/fa21/cse258-b/files/\n",
    "dataset = list(parse(\"trainRecipes.json.gz\"))"
   ]
  },
  {
   "cell_type": "code",
   "execution_count": 10,
   "metadata": {},
   "outputs": [
    {
     "data": {
      "text/plain": "200000"
     },
     "execution_count": 10,
     "metadata": {},
     "output_type": "execute_result"
    }
   ],
   "source": [
    "len(dataset)"
   ]
  },
  {
   "cell_type": "code",
   "execution_count": 11,
   "metadata": {},
   "outputs": [],
   "source": [
    "train = dataset[:150000]\n",
    "valid = dataset[150000:175000]\n",
    "test = dataset[175000:]"
   ]
  },
  {
   "cell_type": "code",
   "execution_count": 12,
   "metadata": {},
   "outputs": [
    {
     "data": {
      "text/plain": "{'name': 'sexy fried eggs for sunday brunch',\n 'minutes': 10,\n 'contributor_id': '14298494',\n 'submitted': '2004-05-21',\n 'steps': 'heat a ridged griddle pan\\tlightly brush the tomato slices and bread with some olive oil\\tcook the tomato slices first , for at least 5 minutes\\twhen they are almost ready , toast the bread in the same pan until well bar-marked\\tin the meantime , pour a little olive oil into a small frying pan and crack in the egg\\tallow it to set for a minute or so and add the garlic and chilli\\tcook for a couple of minutes , spooning the hot oil over the egg until cooked to your liking\\tplace the griddled bread on a plate and quickly spoon the tomatoes on top\\tthrow the chives into the egg pan and splash in the balsamic vinegar\\tseason well , then slide the egg on to the tomatoes and drizzle the pan juices on top\\tserve immediately , with a good cup of tea !',\n 'description': 'this is from silvana franco\\'s book \"family\" which i love. i made these for brunch yesterday and we loved them so much that we had them again today!',\n 'ingredients': ['plum tomato',\n  'ciabatta',\n  'olive oil',\n  'egg',\n  'garlic clove',\n  'chili',\n  'chives',\n  'balsamic vinegar',\n  'salt and pepper'],\n 'recipe_id': '06432987'}"
     },
     "execution_count": 12,
     "metadata": {},
     "output_type": "execute_result"
    }
   ],
   "source": [
    "dataset[0]"
   ]
  },
  {
   "cell_type": "markdown",
   "metadata": {},
   "source": [
    "## Question 1"
   ]
  },
  {
   "cell_type": "code",
   "execution_count": 13,
   "metadata": {},
   "outputs": [
    {
     "name": "stdout",
     "output_type": "stream",
     "text": [
      "Feature vector for first training sample of 1a: \n",
      "[743, 9]\n"
     ]
    }
   ],
   "source": [
    "def feat1a(d):\n",
    "    return [len(d['steps']), len(d['ingredients'])]\n",
    "\n",
    "print(f\"Feature vector for first training sample of 1a: \\n{feat1a(dataset[0])}\")\n"
   ]
  },
  {
   "cell_type": "code",
   "execution_count": 14,
   "metadata": {},
   "outputs": [
    {
     "name": "stdout",
     "output_type": "stream",
     "text": [
      "Year of newest submission: 2018\n",
      "Year of oldest submission: 1999\n"
     ]
    }
   ],
   "source": [
    "maxYear = -math.inf\n",
    "minYear = math.inf\n",
    "\n",
    "for elem in dataset:\n",
    "    year = int(elem['submitted'][:4])\n",
    "    if year > maxYear: maxYear = year\n",
    "    if year < minYear: minYear = year\n",
    "\n",
    "print(f\"Year of newest submission: {maxYear}\\nYear of oldest submission: {minYear}\")"
   ]
  },
  {
   "cell_type": "code",
   "execution_count": 15,
   "metadata": {},
   "outputs": [
    {
     "name": "stdout",
     "output_type": "stream",
     "text": [
      "Feature vector for first training sample of 1b: \n",
      "[0, 0, 0, 0, 0, 0, 0, 0, 0, 0, 0, 0, 0, 1, 0, 0, 0, 0, 0, 0, 0, 0, 1, 0, 0, 0, 0, 0, 0, 0]\n"
     ]
    }
   ],
   "source": [
    "def feat1b(d):\n",
    "    year = int(d['submitted'][:4])\n",
    "    numYears = maxYear - minYear\n",
    "    yearFeat = [0]*numYears\n",
    "    if year != maxYear:\n",
    "        yearFeat[maxYear-year-1] = 1\n",
    "    \n",
    "    month = int(d['submitted'][5:7])\n",
    "    monthFeat = [0]*11\n",
    "    monthFeat[month-2] = 1\n",
    "    return yearFeat + monthFeat\n",
    "\n",
    "print(f\"Feature vector for first training sample of 1b: \\n{feat1b(dataset[0])}\")\n",
    "    "
   ]
  },
  {
   "cell_type": "code",
   "execution_count": 16,
   "metadata": {},
   "outputs": [],
   "source": [
    "ingredientCount = {}\n",
    "for elem in dataset:\n",
    "    for ingredient in elem['ingredients']:\n",
    "        if ingredient in ingredientCount:\n",
    "            ingredientCount[ingredient] += 1\n",
    "        else:\n",
    "            ingredientCount[ingredient] = 1\n",
    "\n",
    "ingredientCount = dict(sorted(ingredientCount.items(), key=lambda item: item[1], reverse=True))\n",
    "\n",
    "topFiftyIngredients = []\n",
    "for key in ingredientCount.keys():\n",
    "    if len(topFiftyIngredients) >= 50:\n",
    "        break\n",
    "    else:\n",
    "        topFiftyIngredients.append(key)"
   ]
  },
  {
   "cell_type": "code",
   "execution_count": 17,
   "metadata": {},
   "outputs": [
    {
     "name": "stdout",
     "output_type": "stream",
     "text": [
      "Feature vector for first training sample of 1c: \n",
      "[0, 0, 0, 0, 0, 0, 1, 0, 0, 0, 0, 0, 0, 0, 0, 1, 1, 0, 0, 0, 0, 0, 0, 0, 0, 0, 0, 0, 0, 0, 1, 0, 0, 0, 0, 0, 0, 0, 0, 0, 0, 0, 0, 0, 0, 0, 0, 0, 0, 0]\n"
     ]
    }
   ],
   "source": [
    "def feat1c(d):\n",
    "    feat = [0]*50\n",
    "    ingredients = d['ingredients']\n",
    "    index = 0\n",
    "    for elem in topFiftyIngredients:\n",
    "        if elem in ingredients:\n",
    "            feat[index] = 1\n",
    "        index += 1\n",
    "    return feat\n",
    "\n",
    "print(f\"Feature vector for first training sample of 1c: \\n{feat1c(dataset[0])}\")"
   ]
  },
  {
   "cell_type": "code",
   "execution_count": 18,
   "metadata": {},
   "outputs": [],
   "source": [
    "def feat(d, a = True, b = True, c = True):\n",
    "    # Hint: for Questions 1 and 2, might be useful to set up a function like this\n",
    "    #       which allows you to \"select\" which features are included\n",
    "    feature = [1]\n",
    "    if a: feature += feat1a(d)\n",
    "    if b: feature += feat1b(d)\n",
    "    if c: feature += feat1c(d)\n",
    "    return feature"
   ]
  },
  {
   "cell_type": "code",
   "execution_count": 19,
   "metadata": {},
   "outputs": [],
   "source": [
    "def MSE(y, ypred):\n",
    "    # Can use library if you prefer\n",
    "    differences = [(x-y)**2 for x,y in zip(y,ypred)]\n",
    "    return sum(differences) / len(differences)"
   ]
  },
  {
   "cell_type": "code",
   "execution_count": 20,
   "metadata": {},
   "outputs": [],
   "source": [
    "# Splitting dataset\n",
    "# Dataset not sorted after date, thus splitting it in the trivial way\n",
    "dataTrain = dataset[:len(dataset)*3//4] \n",
    "dataValidation = dataset[len(dataset)*3//4:len(dataset)*7//8]\n",
    "dataTest = dataset[len(dataset)*7//8:]"
   ]
  },
  {
   "cell_type": "code",
   "execution_count": 21,
   "metadata": {},
   "outputs": [],
   "source": [
    "def train_model(mod, a = True, b = True, c = True):\n",
    "    # Hint: might be useful to write this function which extracts features and \n",
    "    #       computes the performance of a particular model on those features\n",
    "    XTrain = [feat(data, a, b, c) for data in dataTrain]\n",
    "    yTrain = [data['minutes'] for data in dataTrain]\n",
    "    mod.fit(XTrain, yTrain)"
   ]
  },
  {
   "cell_type": "code",
   "execution_count": 22,
   "metadata": {},
   "outputs": [
    {
     "name": "stdout",
     "output_type": "stream",
     "text": [
      "MSE for 1a: 6169.549296366476\n"
     ]
    }
   ],
   "source": [
    "model1a = linear_model.LinearRegression()\n",
    "train_model(model1a, True, False, False)\n",
    "\n",
    "X1aTest = [feat(data, True, False, False) for data in dataTest]\n",
    "y1aTest = [d['minutes'] for d in dataTest]\n",
    "y1aPred = model1a.predict(X1aTest)\n",
    "\n",
    "print(f\"MSE for 1a: {MSE(y1aTest, y1aPred)}\")"
   ]
  },
  {
   "cell_type": "code",
   "execution_count": 23,
   "metadata": {},
   "outputs": [
    {
     "name": "stdout",
     "output_type": "stream",
     "text": [
      "MSE for 1b: 6396.644907898458\n"
     ]
    }
   ],
   "source": [
    "model1b = linear_model.LinearRegression()\n",
    "y1bPred = train_model(model1b, False, True, False)\n",
    "\n",
    "X1bTest = [feat(data, False, True, False) for data in dataTest]\n",
    "y1bTest = [d['minutes'] for d in dataTest]\n",
    "y1bPred = model1b.predict(X1bTest)\n",
    "\n",
    "print(f\"MSE for 1b: {MSE(y1bTest, y1bPred)}\")"
   ]
  },
  {
   "cell_type": "code",
   "execution_count": 24,
   "metadata": {},
   "outputs": [
    {
     "name": "stdout",
     "output_type": "stream",
     "text": [
      "MSE for 1c: 6000.948439855985\n"
     ]
    }
   ],
   "source": [
    "model1c = linear_model.LinearRegression()\n",
    "y1cPred = train_model(model1c, False, False, True)\n",
    "\n",
    "X1cTest = [feat(data, False, False, True) for data in dataTest]\n",
    "y1cTest = [d['minutes'] for d in dataTest]\n",
    "y1cPred = model1c.predict(X1cTest)\n",
    "\n",
    "print(f\"MSE for 1c: {MSE(y1cTest, y1cPred)}\")"
   ]
  },
  {
   "cell_type": "markdown",
   "metadata": {},
   "source": [
    "## Question 2"
   ]
  },
  {
   "cell_type": "code",
   "execution_count": 25,
   "metadata": {},
   "outputs": [
    {
     "name": "stdout",
     "output_type": "stream",
     "text": [
      "MSE for model with all features: 5861.087768668749\n"
     ]
    }
   ],
   "source": [
    "modelAll = linear_model.LinearRegression()\n",
    "yAllPred = train_model(modelAll, True, True, True)\n",
    "\n",
    "XAllTest = [feat(data, True, True, True) for data in dataTest]\n",
    "yAllTest = [d['minutes'] for d in dataTest]\n",
    "yAllPred = modelAll.predict(XAllTest)\n",
    "\n",
    "print(f\"MSE for model with all features: {MSE(yAllTest, yAllPred)}\")"
   ]
  },
  {
   "cell_type": "code",
   "execution_count": 26,
   "metadata": {},
   "outputs": [
    {
     "name": "stdout",
     "output_type": "stream",
     "text": [
      "MSE for model without 1a: 5992.513432436371\n"
     ]
    }
   ],
   "source": [
    "model1bc = linear_model.LinearRegression()\n",
    "y1bcPred = train_model(model1bc, False, True, True)\n",
    "\n",
    "X1bcTest = [feat(data, False, True, True) for data in dataTest]\n",
    "y1bcTest = [d['minutes'] for d in dataTest]\n",
    "y1bcPred = model1bc.predict(X1bcTest)\n",
    "\n",
    "print(f\"MSE for model without 1a: {MSE(y1bcTest, y1bcPred)}\")"
   ]
  },
  {
   "cell_type": "code",
   "execution_count": 27,
   "metadata": {},
   "outputs": [
    {
     "name": "stdout",
     "output_type": "stream",
     "text": [
      "MSE for model without 1b: 5870.115061656081\n"
     ]
    }
   ],
   "source": [
    "model1ac = linear_model.LinearRegression()\n",
    "y1acPred = train_model(model1ac, True, False, True)\n",
    "\n",
    "X1acTest = [feat(data, True, False, True) for data in dataTest]\n",
    "y1acTest = [d['minutes'] for d in dataTest]\n",
    "y1acPred = model1ac.predict(X1acTest)\n",
    "\n",
    "print(f\"MSE for model without 1b: {MSE(y1acTest, y1acPred)}\")"
   ]
  },
  {
   "cell_type": "code",
   "execution_count": 28,
   "metadata": {},
   "outputs": [
    {
     "name": "stdout",
     "output_type": "stream",
     "text": [
      "MSE for model without 1c: 6157.511552782132\n"
     ]
    }
   ],
   "source": [
    "model1ab = linear_model.LinearRegression()\n",
    "y1abPred = train_model(model1ab, True, True, False)\n",
    "\n",
    "X1abTest = [feat(data, True, True, False) for data in dataTest]\n",
    "y1abTest = [d['minutes'] for d in dataTest]\n",
    "y1abPred = model1ab.predict(X1abTest)\n",
    "\n",
    "print(f\"MSE for model without 1c: {MSE(y1abTest, y1abPred)}\")"
   ]
  },
  {
   "cell_type": "markdown",
   "metadata": {},
   "source": [
    "### Reasoning on result\n",
    "By comparing the MSEs when excluding one of the features at a time, it looks like the most important feature was the one implemented in task 1c, since the exclution of this lead to the most significant increase in the MSE. The exclution of the features from task 1a also led to a quite significant increase in the MSE, which makes it the second most important feature. The exclution of the features from task 1b only lead to a slight increase in the MSE. However, with the amount of data we have it seems like the best predictor is the one when all features are included."
   ]
  },
  {
   "cell_type": "markdown",
   "metadata": {},
   "source": [
    "## Question 4\n",
    "\n",
    "The problem with this is that, since the error is squared, hence Mean SQUARE Error, the prediction errors on the outliers with long cooking time will be further amplified by the square, and thus be dominant on the MSE. To optimize the MSE, the predictor will thus focus more on the few recipes with long cooking times rather than the big amount of recipes with short cook times, whoch is an obvious drawback. \n",
    "\n",
    "There are several ways to design a better predictor in such a dataset. The simplest way is to just remove the outliers from the dataset. This however does not give us any practical means for prediction of outliers. \n",
    "Another way is to tranform the output variable to a variable which downscales the varibles with greater magnitude more than the other, such as the logarithmic value. To find this appropriate transformation may be hard, and may require careful tuning.\n",
    "A third way may be to reframe the problem as a classification problem, e.g. predict whether the cooking time is above 20 minutes. This does however give os a very coarse perdiction.\n",
    "A fourth and last way may be to use an objective that are not as sensitive to outliers as the MSE. One oportunity is to use MAE."
   ]
  },
  {
   "cell_type": "markdown",
   "metadata": {},
   "source": [
    "# Section 2 (Classification)"
   ]
  },
  {
   "cell_type": "markdown",
   "metadata": {},
   "source": [
    "## Question 5"
   ]
  },
  {
   "cell_type": "code",
   "execution_count": 29,
   "metadata": {},
   "outputs": [],
   "source": [
    "topIngredients = []\n",
    "for key in ingredientCount.keys():\n",
    "    if key!=\"butter\":\n",
    "        topIngredients.append(key)"
   ]
  },
  {
   "cell_type": "code",
   "execution_count": 30,
   "metadata": {},
   "outputs": [],
   "source": [
    "def BER(predictions, y):\n",
    "    # Implement following this logic or otherwise\n",
    "    TP = sum([(p and l) for (p,l) in zip(predictions, y)])\n",
    "    FP = sum([(p and not l) for (p,l) in zip(predictions, y)])\n",
    "    TN = sum([(not p and not l) for (p,l) in zip(predictions, y)])\n",
    "    FN = sum([(not p and l) for (p,l) in zip(predictions, y)])\n",
    "\n",
    "    FPR = FP/(FP+TN)\n",
    "    FNR = FN/(FN+TP)\n",
    "\n",
    "    BER = 0.5*(FPR + FNR)\n",
    "    return BER"
   ]
  },
  {
   "cell_type": "code",
   "execution_count": 31,
   "metadata": {},
   "outputs": [],
   "source": [
    "def feat2(d, N, mostPopularInd):\n",
    "    feat = [0]*N\n",
    "    ingredients = d['ingredients']\n",
    "    index = 0\n",
    "    for elem in mostPopularInd[:N]:\n",
    "        if elem in ingredients:\n",
    "            feat[index] = 1\n",
    "        index += 1\n",
    "    return feat"
   ]
  },
  {
   "cell_type": "code",
   "execution_count": 33,
   "metadata": {},
   "outputs": [],
   "source": [
    "def containButter(ingredients):\n",
    "    if 'butter' in ingredients:\n",
    "        return 1\n",
    "    return 0\n",
    "\n",
    "def experiment(reg = 1, dict_size = 50):\n",
    "    # Hint: run an experiment with a particular regularization strength, and a particular one-hot encoding size\n",
    "    # extract features...  \n",
    "    XTrain = [feat2(d, dict_size, topIngredients) for d in dataTrain]\n",
    "    yTrain = [containButter(d['ingredients']) for d in dataTrain]\n",
    "\n",
    "    XValid = [feat2(d, dict_size, topIngredients) for d in dataValidation]\n",
    "    yValid = [containButter(d['ingredients']) for d in dataValidation]\n",
    "\n",
    "\n",
    "    # (etc.)\n",
    "    mod = linear_model.LogisticRegression(C=reg, class_weight='balanced', solver = 'lbfgs')\n",
    "    mod.fit(XTrain, yTrain)\n",
    "\n",
    "    XTest = [feat2(d, dict_size, topIngredients) for d in dataTest]\n",
    "    yTest = [containButter(d['ingredients']) for d in dataTest]\n",
    "\n",
    "    yPred = mod.predict(XTest)\n",
    "    \n",
    "    sum = 0\n",
    "    for y_, yPred_ in zip(yTest, yPred):\n",
    "        if y_ == yPred_:\n",
    "            sum += 1\n",
    "    \n",
    "    accuracy = sum/len(yPred)   \n",
    "    print(\"-----------TEST PERFORMANCE-----------\")\n",
    "    print(f\"BER: {BER(yPred, yTest)} \\nAccuracy: {accuracy}\")\n",
    "\n",
    "\n",
    "experiment()\n",
    "\n"
   ]
  },
  {
   "cell_type": "markdown",
   "metadata": {},
   "source": [
    "## Question 6"
   ]
  },
  {
   "cell_type": "code",
   "execution_count": 35,
   "metadata": {},
   "outputs": [
    {
     "name": "stdout",
     "output_type": "stream",
     "text": [
      "Result with regularization constant = 0.01, and amount of ingredients N = 50\n",
      "-----------TRAIN PERFORMANCE-----------\n",
      "BER: 0.2901895036037755\n",
      "-----------VALIDATION PERFORMANCE-----------\n",
      "BER: 0.29033267701492\n",
      "Result with regularization constant = 0.01, and amount of ingredients N = 100\n",
      "-----------TRAIN PERFORMANCE-----------\n",
      "BER: 0.26404572820163397\n",
      "-----------VALIDATION PERFORMANCE-----------\n",
      "BER: 0.26473200940198605\n",
      "Result with regularization constant = 0.01, and amount of ingredients N = 500\n",
      "-----------TRAIN PERFORMANCE-----------\n",
      "BER: 0.22851785954772086\n",
      "-----------VALIDATION PERFORMANCE-----------\n",
      "BER: 0.2306062614911914\n",
      "Result with regularization constant = 1, and amount of ingredients N = 50\n",
      "-----------TRAIN PERFORMANCE-----------\n",
      "BER: 0.2898832003476495\n",
      "-----------VALIDATION PERFORMANCE-----------\n",
      "BER: 0.28951737136608635\n",
      "Result with regularization constant = 1, and amount of ingredients N = 100\n",
      "-----------TRAIN PERFORMANCE-----------\n",
      "BER: 0.2621956833656805\n",
      "-----------VALIDATION PERFORMANCE-----------\n",
      "BER: 0.2644673467541458\n",
      "Result with regularization constant = 1, and amount of ingredients N = 500\n",
      "-----------TRAIN PERFORMANCE-----------\n",
      "BER: 0.2233752436848266\n",
      "-----------VALIDATION PERFORMANCE-----------\n",
      "BER: 0.22508648596557473\n",
      "Result with regularization constant = 100, and amount of ingredients N = 50\n",
      "-----------TRAIN PERFORMANCE-----------\n",
      "BER: 0.289919044614668\n",
      "-----------VALIDATION PERFORMANCE-----------\n",
      "BER: 0.28951737136608635\n",
      "Result with regularization constant = 100, and amount of ingredients N = 100\n",
      "-----------TRAIN PERFORMANCE-----------\n",
      "BER: 0.26220723251465694\n",
      "-----------VALIDATION PERFORMANCE-----------\n",
      "BER: 0.26441473732653636\n",
      "Result with regularization constant = 100, and amount of ingredients N = 500\n",
      "-----------TRAIN PERFORMANCE-----------\n",
      "BER: 0.2233087265518917\n",
      "-----------VALIDATION PERFORMANCE-----------\n",
      "BER: 0.2252307228942743\n"
     ]
    }
   ],
   "source": [
    "def containButter(ingredients):\n",
    "    if 'butter' in ingredients:\n",
    "        return 1\n",
    "    return 0\n",
    "\n",
    "def experiment(reg = 1, dict_size = 50):\n",
    "    # Hint: run an experiment with a particular regularization strength, and a particular one-hot encoding size\n",
    "    # extract features...  \n",
    "    XTrain = [feat2(d, dict_size, topIngredients) for d in dataTrain]\n",
    "    yTrain = [containButter(d['ingredients']) for d in dataTrain]\n",
    "\n",
    "    XValid = [feat2(d, dict_size, topIngredients) for d in dataValidation]\n",
    "    yValid = [containButter(d['ingredients']) for d in dataValidation]\n",
    "\n",
    "\n",
    "    # (etc.)\n",
    "    mod = linear_model.LogisticRegression(C=reg, class_weight='balanced', solver = 'lbfgs')\n",
    "    mod.fit(XTrain, yTrain)\n",
    "\n",
    "    XTest = [feat2(d, dict_size, topIngredients) for d in dataTest]\n",
    "    yTest = [containButter(d['ingredients']) for d in dataTest]\n",
    "\n",
    "    yTrainPred = mod.predict(XTrain)\n",
    "    yValidPred = mod.predict(XValid)\n",
    "    \n",
    "\n",
    "    print(\"-----------TRAIN PERFORMANCE-----------\")\n",
    "    print(f\"BER: {BER(yTrainPred, yTrain)}\")\n",
    "    print(\"-----------VALIDATION PERFORMANCE-----------\")\n",
    "    print(f\"BER: {BER(yValidPred, yValid)}\")\n",
    "\n",
    "\n",
    "\n",
    "def pipeline():\n",
    "    for C in [0.01, 1, 100]:\n",
    "        for dsize in [50, 100, 500]:\n",
    "            print(f\"Result with regularization constant = {C}, and amount of ingredients N = {dsize}\")\n",
    "            experiment(C, dsize)\n",
    "\n",
    "pipeline()"
   ]
  },
  {
   "cell_type": "code",
   "execution_count": 36,
   "metadata": {},
   "outputs": [
    {
     "name": "stdout",
     "output_type": "stream",
     "text": [
      "Test performance for selected model(Regularization constant = 1, N = 500):\n",
      "-----------TEST PERFORMANCE-----------\n",
      "BER: 0.22551312999705395 \n",
      "Accuracy: 0.77828\n"
     ]
    }
   ],
   "source": [
    "def experiment(reg = 1, dict_size = 50):\n",
    "    # Hint: run an experiment with a particular regularization strength, and a particular one-hot encoding size\n",
    "    # extract features...  \n",
    "    XTrain = [feat2(d, dict_size, topIngredients) for d in dataTrain]\n",
    "    yTrain = [containButter(d['ingredients']) for d in dataTrain]\n",
    "\n",
    "    XValid = [feat2(d, dict_size, topIngredients) for d in dataValidation]\n",
    "    yValid = [containButter(d['ingredients']) for d in dataValidation]\n",
    "\n",
    "\n",
    "    # (etc.)\n",
    "    mod = linear_model.LogisticRegression(C=reg, class_weight='balanced', solver = 'lbfgs')\n",
    "    mod.fit(XTrain, yTrain)\n",
    "\n",
    "    XTest = [feat2(d, dict_size, topIngredients) for d in dataTest]\n",
    "    yTest = [containButter(d['ingredients']) for d in dataTest]\n",
    "\n",
    "    yPred = mod.predict(XTest)\n",
    "    \n",
    "    sum = 0\n",
    "    for y_, yPred_ in zip(yTest, yPred):\n",
    "        if y_ == yPred_:\n",
    "            sum += 1\n",
    "    \n",
    "    accuracy = sum/len(yPred)   \n",
    "    print(\"-----------TEST PERFORMANCE-----------\")\n",
    "    print(f\"BER: {BER(yPred, yTest)} \\nAccuracy: {accuracy}\")\n",
    "\n",
    "print(f\"Test performance for selected model(Regularization constant = {1}, N = {500}):\")\n",
    "experiment(1, 500)"
   ]
  },
  {
   "cell_type": "markdown",
   "metadata": {},
   "source": [
    "# Section 3 (Recommender Systems)"
   ]
  },
  {
   "cell_type": "markdown",
   "metadata": {},
   "source": [
    "## Question 8"
   ]
  },
  {
   "cell_type": "code",
   "execution_count": 37,
   "metadata": {},
   "outputs": [],
   "source": [
    "# Utility data structures\n",
    "ingsPerItem = defaultdict(set)\n",
    "itemsPerIng = defaultdict(set)"
   ]
  },
  {
   "cell_type": "code",
   "execution_count": 38,
   "metadata": {},
   "outputs": [],
   "source": [
    "for d in dataset:\n",
    "    r = d['recipe_id']\n",
    "    for i in d['ingredients']:\n",
    "        ingsPerItem[r].add(i)\n",
    "        itemsPerIng[i].add(r)"
   ]
  },
  {
   "cell_type": "code",
   "execution_count": 39,
   "metadata": {},
   "outputs": [],
   "source": [
    "def Jaccard(s1, s2):\n",
    "    numerator = len(s1.intersection(s2))\n",
    "    denominator = len(s1.union(s2))\n",
    "    if(denominator == 0):\n",
    "        return 0\n",
    "    return numerator/denominator"
   ]
  },
  {
   "cell_type": "code",
   "execution_count": 40,
   "metadata": {},
   "outputs": [
    {
     "name": "stdout",
     "output_type": "stream",
     "text": [
      "\t Recipe ID \t Similarity\n",
      "1 \t 68523854 \t 0.4166666666666667\n",
      "2 \t 12679596 \t 0.38461538461538464\n",
      "3 \t 79675099 \t 0.36363636363636365\n",
      "4 \t 56301588 \t 0.36363636363636365\n",
      "5 \t 87359281 \t 0.35714285714285715\n"
     ]
    }
   ],
   "source": [
    "def mostSimilar8(item, N):\n",
    "    similarities = []\n",
    "    ingredients = ingsPerItem[item]\n",
    "    for i in ingsPerItem:\n",
    "        if (i==item): continue\n",
    "        similarity = Jaccard(ingredients, ingsPerItem[i])\n",
    "        similarities.append((similarity, i))\n",
    "    similarities.sort(reverse=True)\n",
    "    return similarities[:N]\n",
    "\n",
    "recipe_id = dataset[0]['recipe_id']\n",
    "fiveBest = mostSimilar8(recipe_id, 5)\n",
    "\n",
    "print('\\t Recipe ID \\t Similarity')\n",
    "for index, elem in enumerate(fiveBest):\n",
    "    print(f\"{index+1} \\t {elem[1]} \\t {elem[0]}\")"
   ]
  },
  {
   "cell_type": "code",
   "execution_count": 41,
   "metadata": {},
   "outputs": [
    {
     "name": "stdout",
     "output_type": "stream",
     "text": [
      "\t Ingredient \t Similarity\n",
      "1 \t salt \t\t 0.22315311514274808\n",
      "2 \t flour \t\t 0.2056685424969639\n",
      "3 \t eggs \t\t 0.19100394157199166\n",
      "4 \t sugar \t\t 0.17882420717656095\n",
      "5 \t milk \t\t 0.17040052045973944\n"
     ]
    }
   ],
   "source": [
    "def mostSimilar9(ing, N):\n",
    "    similarities = []\n",
    "    items = itemsPerIng[ing]\n",
    "    for i in itemsPerIng:\n",
    "        if (i==ing): continue\n",
    "        similarity = Jaccard(items, itemsPerIng[i])\n",
    "        similarities.append((similarity, i))\n",
    "    similarities.sort(reverse=True)\n",
    "    return similarities[:N]\n",
    "\n",
    "ing = 'butter'\n",
    "fiveBest = mostSimilar9(ing, 5)\n",
    "\n",
    "print('\\t Ingredient \\t Similarity')\n",
    "for index, elem in enumerate(fiveBest):\n",
    "    print(f\"{index+1} \\t {elem[1]} \\t\\t {elem[0]}\")"
   ]
  },
  {
   "cell_type": "markdown",
   "metadata": {},
   "source": [
    "## Question 10"
   ]
  },
  {
   "cell_type": "markdown",
   "metadata": {},
   "source": [
    "There are obviously tons of different ways of solving this task. While the trivial solution obviously might be a good solution since you get the most similar recipe to the excact ingredients the user had in mind, it may as the task says be too inflexible.\n",
    "\n",
    "For me, the most critical part when I chose what recipe I want to cook is the time it takes. My approach is therefor to start by predicting the time it will take to make the meal based on the ingredients, and nattow down the possible recommendations to recipes taking +-25% of that time. After that, I will find the most similar ingredients to the ingredients in the original set, try change them one at a time, and find the new most similar recipes with the one different ingredient. After that I will sort all the found recipes by the similarity, and recommend the N with highest similarity.\n"
   ]
  },
  {
   "cell_type": "code",
   "execution_count": 42,
   "metadata": {},
   "outputs": [],
   "source": [
    "topIngredients = []\n",
    "for key in ingredientCount.keys():\n",
    "    if key!=\"butter\":\n",
    "        topIngredients.append(key)"
   ]
  },
  {
   "cell_type": "code",
   "execution_count": 43,
   "metadata": {},
   "outputs": [],
   "source": [
    "# Start by predicting how long time the cooking will take based on the ingredient list\n",
    "def feat(ingredients):\n",
    "    featTopIngredients = [0]*500\n",
    "    index = 0\n",
    "    for elem in topIngredients[500]:\n",
    "        if elem in ingredients:\n",
    "            feat[index] = 1\n",
    "        index += 1\n",
    "    return [1] + [len(ingredients)] + featTopIngredients"
   ]
  },
  {
   "cell_type": "code",
   "execution_count": 44,
   "metadata": {},
   "outputs": [],
   "source": [
    "def predictTime(ingredients):\n",
    "    # Training model to predict time based on ingredients\n",
    "    X = [feat(d['ingredients']) for d in dataset]\n",
    "    y = [d['minutes'] for d in dataset]\n",
    "\n",
    "    model = linear_model.LinearRegression()\n",
    "    model.fit(X, y)\n",
    "\n",
    "    return model.predict(ingredients)\n"
   ]
  },
  {
   "cell_type": "code",
   "execution_count": 58,
   "metadata": {},
   "outputs": [],
   "source": [
    "def nRecomendations(ingredientSet, N):\n",
    "    ingredientList = list(ingredientSet)\n",
    "    predictedTime = predictTime([feat(ingredientList)])\n",
    "    maxTime = predictedTime*1.25\n",
    "    minTime = predictedTime*0.75\n",
    "\n",
    "    print(f\"Predicted time: {predictedTime}\")\n",
    "\n",
    "    possibleRecipes = []\n",
    "    for d in dataset:\n",
    "        if d['minutes'] < maxTime and d['minutes'] > minTime:\n",
    "            possibleRecipes.append(d)\n",
    "    \n",
    "    ingsPerItem = defaultdict(set)\n",
    "    for d in possibleRecipes:\n",
    "        r = d['recipe_id']\n",
    "        for i in d['ingredients']:\n",
    "            ingsPerItem[r].add(i)\n",
    "    \n",
    "    mostSimilarIng = []\n",
    "    for elem in ingredientSet:\n",
    "        mostSimilarIng += mostSimilar9(elem, 1)\n",
    "    \n",
    "    bestRecommendations = []\n",
    "    bestRecommendations += mostSimilarByIng(ingredientSet, ingsPerItem,  N)\n",
    "    for i in range(len(ingredientSet)):\n",
    "        similarIngredientList = ingredientList\n",
    "        similarIngredientList[i] = mostSimilarIng[i]\n",
    "        for elem in mostSimilarByIng(set(similarIngredientList), ingsPerItem, N):\n",
    "            if elem not in bestRecommendations:\n",
    "                bestRecommendations.append(elem)\n",
    "    \n",
    "    bestRecommendations.sort(reverse=True)\n",
    "    for i in range(N):\n",
    "        for d in dataset:\n",
    "            if d['recipe_id'] == bestRecommendations[i][1]:\n",
    "                print(f\"Recommendation #{i}: \\n{d}\")\n",
    "    return bestRecommendations[:N]\n",
    "\n"
   ]
  },
  {
   "cell_type": "code",
   "execution_count": 59,
   "metadata": {},
   "outputs": [],
   "source": [
    "def mostSimilarByIng(ingredients, ingsPerItem, N):\n",
    "    similarities = []\n",
    "    for i in ingsPerItem:\n",
    "        similarity = Jaccard(ingredients, ingsPerItem[i])\n",
    "        similarities.append((similarity, i))\n",
    "    similarities.sort(reverse=True)\n",
    "    return similarities[:N]"
   ]
  },
  {
   "cell_type": "code",
   "execution_count": 60,
   "metadata": {},
   "outputs": [
    {
     "name": "stdout",
     "output_type": "stream",
     "text": [
      "Predicted time: [41.74373487]\n",
      "Recommendation #0: \n",
      "{'name': 'morello cherry sauce', 'minutes': 40, 'contributor_id': '22505516', 'submitted': '2009-09-17', 'steps': 'dissolve sugar in the water over a low heat , add the cherries , cinnamon and lemon zest and bring to the boil , reduce heat , and simmer until very syrupy\\tremove cherry mix from the heat when syrupy and thick enough\\tadd lemon juice and brandy\\tallow mix to cool , and keep until ready to serve\\tserve over your favourite icecream', 'description': 'found this recipe from the cook and the chef. this sauce is great served over vanilla or a rich chocolate ice cream. i think this would go well over pancakes also. i have added brandy to the original recipe, so you can leave brandy out if prefered.', 'ingredients': ['water', 'sugar', 'cherries', 'lemon, zest of', 'cinnamon', 'lemon juice', 'brandy'], 'recipe_id': '93220713'}\n",
      "Recommendation #1: \n",
      "{'name': 'sour cherry pie', 'minutes': 45, 'contributor_id': '43223120', 'submitted': '2001-07-25', 'steps': 'mix cherries with sugar , flour , salt , cinnamon and tapioca\\tmight look kind of funny , but that is ok\\tpour into unbaked pie crust\\tdot with butter\\tbake at 375 for 35 minutes', 'description': '', 'ingredients': ['cherries', 'sugar', 'flour', 'salt', 'cinnamon', 'minute tapioca', 'butter'], 'recipe_id': '15446036'}\n",
      "Recommendation #2: \n",
      "{'name': 'summertime cherry peach cobbler', 'minutes': 50, 'contributor_id': '62509453', 'submitted': '2009-07-10', 'steps': 'put oven rack in middle position and preheat oven to 425\\tbutter a 13x9x2-inch glass or ceramic baking dish\\twhisk together cornstarch , cinnamon , sugar , and peaches in a large bowl and toss to combine\\tadd the more delicate cherries last and give a gentle stir\\ttransfer fruit mixture into the baking dish and bake for ten to fifteen minutes until bubbling\\twhile fruit bakes , whisk the flour , baking powder , and salt together\\tadd buttermilk and melted butter mix just until a dough forms\\tdrop batter onto fruit and sprinkle with remaining tablespoon of sugar\\tbake until top is golden brown , about 20 - 25 minutes\\tserve warm with vanilla ice cream , if desired', 'description': \"two of summer's tastiest fruits combine into this sweet, crowd-pleasing cobbler. recipe adapted from the central market in fort worth, tx.\", 'ingredients': ['cornstarch', 'sugar', 'cherries', 'peaches', 'all-purpose flour', 'baking powder', 'unsalted butter', 'buttermilk', 'cinnamon'], 'recipe_id': '00722531'}\n"
     ]
    },
    {
     "data": {
      "text/plain": "[(0.2222222222222222, '93220713'),\n (0.2222222222222222, '15446036'),\n (0.18181818181818182, '00722531')]"
     },
     "execution_count": 60,
     "metadata": {},
     "output_type": "execute_result"
    }
   ],
   "source": [
    "ingredients = {'cinnamon', 'cherries', 'butterscotch', 'vodka'}\n",
    "nRecomendations(ingredients, 3)"
   ]
  },
  {
   "cell_type": "code",
   "execution_count": 61,
   "metadata": {},
   "outputs": [
    {
     "name": "stdout",
     "output_type": "stream",
     "text": [
      "Predicted time: [41.74373487]\n",
      "Recommendation #0: \n",
      "{'name': 'roast potatoes gauci style', 'minutes': 50, 'contributor_id': '45866524', 'submitted': '2006-03-23', 'steps': \"cut the potato into 1 inch cubes & place in a plastic bag & put into the microwave for 2 mins\\tput in the onion , garlic , chili , salt , pepper & wholegrain mustard along with the olive oil\\tshake it all up until potato is well coated\\tempty it onto an oven tray & put in the oven at about 200degc for about 40 minutes\\ttest with a fork when you think they're done\", 'description': \"threw this together a couple of weeks ago and it's great! wholegrain mustard makes this a flavoursome side dish.\", 'ingredients': ['potatoes', 'onion', 'garlic', 'chili', 'coarse grain mustard', 'salt & pepper', 'olive oil'], 'recipe_id': '34107311'}\n",
      "Recommendation #1: \n",
      "{'name': 'baked mexican rice vegetarian', 'minutes': 50, 'contributor_id': '01030700', 'submitted': '2012-07-26', 'steps': 'place the oil in a saucepan and cook the onion until translucent\\tadd the garlic , cumin and chilli and fry over a medium heat until fragrant\\tadd the rice , stock and paste , stir to combine\\twhen almost to the boil , transfer to a 2 litre capacity oven proof dish with a lid\\tcover and bake at 180oc for 35-40 minutes\\tremove from the oven and let sit for 5 minutes before serving', 'description': \"a tomato based mexican rice. can be made the day before and re-heated (easy for entertaining). this resembles our favourite mexican restaurant's rice dish that i love. if you double, add extra cooking time.\", 'ingredients': ['oil', 'onion', 'garlic', 'ground cumin', 'chili powder', 'white rice', 'chicken', 'tomato paste'], 'recipe_id': '38703750'}\n",
      "Recommendation #2: \n",
      "{'name': 'south african curry', 'minutes': 50, 'contributor_id': '38120744', 'submitted': '2009-10-04', 'steps': \"saute onion in a little oil til soft\\tadd curry powder and turmeric\\tsaute for 30 sec\\tdon't let burn !\\tadd chopped tomatoes and cook down to a paste\\tadd garlic and ginger\\tadd chicken and potatoes\\tsalt to taste and let simmer until chicken and potatoes are done\", 'description': 'got this from a friend of mine in south africa. i usually use chicken breasts cut into 1 in. pieces as it cuts down on cooking time.', 'ingredients': ['onion', 'curry powder', 'turmeric', 'tomatoes', 'chicken', 'garlic', 'ginger', 'potato', 'salt'], 'recipe_id': '91198504'}\n",
      "Recommendation #3: \n",
      "{'name': 's more chicken', 'minutes': 35, 'contributor_id': '66262951', 'submitted': '2004-05-25', 'steps': 'brown meaty chicken pieces in butter with sliced onion and minced garlic\\tplace browned chicken and onions in pressure cooker\\tdump remaining ingredients over chicken\\theat on high until pressure cooker top starts to rock , then reduce heat to medium-high\\tcook for 15 minutes\\tserve over rice with sauce', 'description': 'this chicken recipe is easy and delicious! yum! yum! we love it so much i make it often! i believe this may be indonesian, since my boyfriend got the recipe from his dutch-indonesian mom.', 'ingredients': ['chicken', 'butter', 'onion', 'garlic', 'water', 'soy sauce', 'salt', 'pepper', 'nutmeg'], 'recipe_id': '46790934'}\n",
      "Recommendation #4: \n",
      "{'name': 'frito chili pie', 'minutes': 45, 'contributor_id': '57791277', 'submitted': '2005-04-17', 'steps': 'preheat oven to 350 degrees\\tspray a square casserole dish with nonstick cooking spray\\tline the bottom of casserole dish with tamales\\ttop tamales with a thin layer of corn chips\\tspread 1 can of chili on top of corn chips\\ttop chili with 1 cup cheese and 1 / 2 cup of chopped onion\\tadd another layer of corn chips\\tcover with remaining chili\\ttop chili with remaining cheese and onions\\tbake 30 minutes', 'description': \"a great quick meal that was a favorite in my family when i was growing up and that my kids love too! recipe has been adjusted to 2 cans of chili as suggested by reviewers. i normally use one and don't use the entire bag of fritos. you can adjust the chili to frito ratio to your taste. more chili is always good.\", 'ingredients': ['fritos corn chips', 'chili', 'tamales', 'cheddar cheese', 'onion'], 'recipe_id': '96290950'}\n"
     ]
    },
    {
     "data": {
      "text/plain": "[(0.375, '34107311'),\n (0.3333333333333333, '38703750'),\n (0.3, '91198504'),\n (0.3, '46790934'),\n (0.2857142857142857, '96290950')]"
     },
     "execution_count": 61,
     "metadata": {},
     "output_type": "execute_result"
    }
   ],
   "source": [
    "ingredients2 = {'chili', 'chicken', 'garlic', 'onion'}\n",
    "nRecomendations(ingredients2, 5)"
   ]
  },
  {
   "cell_type": "code",
   "execution_count": 62,
   "metadata": {},
   "outputs": [
    {
     "name": "stdout",
     "output_type": "stream",
     "text": [
      "Predicted time: [41.74373487]\n",
      "Recommendation #0: \n",
      "{'name': 'roast potatoes gauci style', 'minutes': 50, 'contributor_id': '45866524', 'submitted': '2006-03-23', 'steps': \"cut the potato into 1 inch cubes & place in a plastic bag & put into the microwave for 2 mins\\tput in the onion , garlic , chili , salt , pepper & wholegrain mustard along with the olive oil\\tshake it all up until potato is well coated\\tempty it onto an oven tray & put in the oven at about 200degc for about 40 minutes\\ttest with a fork when you think they're done\", 'description': \"threw this together a couple of weeks ago and it's great! wholegrain mustard makes this a flavoursome side dish.\", 'ingredients': ['potatoes', 'onion', 'garlic', 'chili', 'coarse grain mustard', 'salt & pepper', 'olive oil'], 'recipe_id': '34107311'}\n",
      "Recommendation #1: \n",
      "{'name': 'baked mexican rice vegetarian', 'minutes': 50, 'contributor_id': '01030700', 'submitted': '2012-07-26', 'steps': 'place the oil in a saucepan and cook the onion until translucent\\tadd the garlic , cumin and chilli and fry over a medium heat until fragrant\\tadd the rice , stock and paste , stir to combine\\twhen almost to the boil , transfer to a 2 litre capacity oven proof dish with a lid\\tcover and bake at 180oc for 35-40 minutes\\tremove from the oven and let sit for 5 minutes before serving', 'description': \"a tomato based mexican rice. can be made the day before and re-heated (easy for entertaining). this resembles our favourite mexican restaurant's rice dish that i love. if you double, add extra cooking time.\", 'ingredients': ['oil', 'onion', 'garlic', 'ground cumin', 'chili powder', 'white rice', 'chicken', 'tomato paste'], 'recipe_id': '38703750'}\n"
     ]
    },
    {
     "data": {
      "text/plain": "[(0.375, '34107311'), (0.3333333333333333, '38703750')]"
     },
     "execution_count": 62,
     "metadata": {},
     "output_type": "execute_result"
    }
   ],
   "source": [
    "ingredients3 = {'tomato', 'turkey', 'rice'}\n",
    "nRecomendations(ingredients2, 2)"
   ]
  }
 ],
 "metadata": {
  "kernelspec": {
   "display_name": "Python 3",
   "language": "python",
   "name": "python3"
  },
  "language_info": {
   "codemirror_mode": {
    "name": "ipython",
    "version": 3
   },
   "file_extension": ".py",
   "mimetype": "text/x-python",
   "name": "python",
   "nbconvert_exporter": "python",
   "pygments_lexer": "ipython3",
   "version": "3.8.8"
  }
 },
 "nbformat": 4,
 "nbformat_minor": 2
}