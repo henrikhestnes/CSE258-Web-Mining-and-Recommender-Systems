{
 "cells": [
  {
   "cell_type": "markdown",
   "metadata": {},
   "source": [
    "# Homework 2"
   ]
  },
  {
   "cell_type": "markdown",
   "metadata": {},
   "source": [
    "## Tasks — Similarity Functions"
   ]
  },
  {
   "cell_type": "markdown",
   "metadata": {},
   "source": [
    "### Task 1\n"
   ]
  },
  {
   "cell_type": "code",
   "execution_count": 2,
   "metadata": {},
   "outputs": [],
   "source": [
    "import pandas as pd\n",
    "\n",
    "URL = 'https://cseweb.ucsd.edu//classes/fa21/cse258-b/data/goodreads_reviews_comics_graphic.json.gz'\n",
    "reviews = pd.read_json(URL, lines=True)"
   ]
  },
  {
   "cell_type": "code",
   "execution_count": 3,
   "metadata": {},
   "outputs": [],
   "source": [
    "def Jaccard(s1, s2):\n",
    "    numerator = len(s1.intersection(s2))\n",
    "    denominator = len(s1.union(s2))\n",
    "    if(denominator == 0):\n",
    "        return 0\n",
    "    return numerator/denominator\n",
    "\n",
    "def mostSimilar(item, K):\n",
    "    similarities = []\n",
    "    users = usersPerItem[item]\n",
    "    for i in usersPerItem:\n",
    "        if (i==item): continue\n",
    "        similarity = Jaccard(users, usersPerItem[i])\n",
    "        similarities.append((similarity, i))\n",
    "    similarities.sort(reverse=True)\n",
    "    return similarities[:K]"
   ]
  },
  {
   "cell_type": "code",
   "execution_count": 4,
   "metadata": {},
   "outputs": [],
   "source": [
    "from collections import defaultdict\n",
    "\n",
    "usersPerItem = defaultdict(set)\n",
    "itemsPerUser = defaultdict(set)\n",
    "ratingDict = {}\n",
    "timeDict = {}\n",
    "\n",
    "ratingsPerItem = defaultdict(list)\n",
    "\n",
    "for index in reviews.index:\n",
    "    user, item, rating, time = reviews['user_id'][index], reviews['book_id'][index], reviews['rating'][index], reviews['date_added'][index]\n",
    "    usersPerItem[item].add(user)\n",
    "    itemsPerUser[user].add(item)\n",
    "    ratingDict[(user,item)] = rating\n",
    "    timeDict[(user, item)] = time\n",
    "    ratingsPerItem[item].append(rating)"
   ]
  },
  {
   "cell_type": "code",
   "execution_count": 5,
   "metadata": {},
   "outputs": [
    {
     "name": "stdout",
     "output_type": "stream",
     "text": [
      "\t Item ID \t Similarity\n",
      "1 \t 25334626 \t 0.16666666666666666\n",
      "2 \t 25659811 \t 0.14285714285714285\n",
      "3 \t 18369278 \t 0.13793103448275862\n",
      "4 \t 18430205 \t 0.13157894736842105\n",
      "5 \t 20299669 \t 0.12903225806451613\n",
      "6 \t 17995154 \t 0.125\n",
      "7 \t 23241671 \t 0.12121212121212122\n",
      "8 \t 23093378 \t 0.12121212121212122\n",
      "9 \t 18853527 \t 0.12121212121212122\n",
      "10 \t 26778333 \t 0.11764705882352941\n"
     ]
    }
   ],
   "source": [
    "firstItem = reviews['book_id'][0]\n",
    "tenHighest = mostSimilar(firstItem, 10)\n",
    "\n",
    "print('\\t Item ID \\t Similarity')\n",
    "for index, elem in enumerate(tenHighest):\n",
    "    print(f\"{index+1} \\t {elem[1]} \\t {elem[0]}\")"
   ]
  },
  {
   "cell_type": "markdown",
   "metadata": {},
   "source": [
    "### Task 2\n"
   ]
  },
  {
   "cell_type": "code",
   "execution_count": 6,
   "metadata": {},
   "outputs": [],
   "source": [
    "userId = 'dc3763cdb9b2cae805882878eebb6a32'\n",
    "\n",
    "userReviews = {}\n",
    "for index in reviews.index:\n",
    "    if (reviews['user_id'][index] == userId):\n",
    "        userReviews[reviews['book_id'][index]] = reviews['rating'][index]\n",
    "\n",
    "sortedUserReviews = sorted(userReviews.items(), reverse=True, key=lambda elem : elem[1])"
   ]
  },
  {
   "cell_type": "markdown",
   "metadata": {},
   "source": [
    "#### Task a)"
   ]
  },
  {
   "cell_type": "code",
   "execution_count": 7,
   "metadata": {},
   "outputs": [
    {
     "name": "stdout",
     "output_type": "stream",
     "text": [
      "\t Item ID \t Similarity\n",
      "1 \t 25334626 \t 0.16666666666666666\n",
      "2 \t 25659811 \t 0.14285714285714285\n",
      "3 \t 18369278 \t 0.13793103448275862\n",
      "4 \t 18430205 \t 0.13157894736842105\n",
      "5 \t 20299669 \t 0.12903225806451613\n",
      "6 \t 17995154 \t 0.125\n",
      "7 \t 23241671 \t 0.12121212121212122\n",
      "8 \t 23093378 \t 0.12121212121212122\n",
      "9 \t 18853527 \t 0.12121212121212122\n",
      "10 \t 26778333 \t 0.11764705882352941\n"
     ]
    }
   ],
   "source": [
    "def mostSimilarItemsNotInteractedWith(item, K):\n",
    "    similarities = []\n",
    "    users = usersPerItem[item]\n",
    "    for i in usersPerItem:\n",
    "        if (i==item): continue\n",
    "        if i in userReviews.keys(): continue\n",
    "        similarity = Jaccard(users, usersPerItem[i])\n",
    "        similarities.append((similarity, i))\n",
    "    similarities.sort(reverse=True)\n",
    "    return similarities[:K]\n",
    "\n",
    "tenBestA = mostSimilarItemsNotInteractedWith(sortedUserReviews[0][0], 10)\n",
    "\n",
    "print('\\t Item ID \\t Similarity')\n",
    "for index, elem in enumerate(tenBestA):\n",
    "    print(f\"{index+1} \\t {elem[1]} \\t {elem[0]}\")"
   ]
  },
  {
   "cell_type": "markdown",
   "metadata": {},
   "source": [
    "#### Task b)"
   ]
  },
  {
   "cell_type": "code",
   "execution_count": 8,
   "metadata": {},
   "outputs": [
    {
     "name": "stdout",
     "output_type": "stream",
     "text": [
      "\t Item ID \t Similarity\n",
      "1   \t 10767466    \t 0.3333333333333333\n",
      "2   \t 23531233    \t 0.25\n",
      "3   \t 59715    \t 0.2\n",
      "4   \t 26400739    \t 0.14285714285714285\n",
      "5   \t 22454333    \t 0.05555555555555555\n",
      "6   \t 21432474    \t 0.030303030303030304\n",
      "7   \t 20696439    \t 0.023809523809523808\n",
      "8   \t 17689253    \t 0.02040816326530612\n",
      "9   \t 10361139    \t 0.014925373134328358\n",
      "10   \t 6238080    \t 0.0136986301369863\n"
     ]
    }
   ],
   "source": [
    "def mostSimilarUsers(user):\n",
    "    similarities = []\n",
    "    for item in userReviews:\n",
    "        for u in usersPerItem[item]:\n",
    "            if user == u: continue\n",
    "            similarity = Jaccard(itemsPerUser[user], itemsPerUser[u])\n",
    "            similarities.append((similarity, u))\n",
    "    similarities.sort(reverse=True)\n",
    "    return similarities\n",
    "\n",
    "sortedSimilarUsers = mostSimilarUsers(userId)\n",
    "\n",
    "tenBestB = []\n",
    "booksAdded = []\n",
    "#spaghetti\n",
    "for otherUser in sortedSimilarUsers:\n",
    "    if(len(tenBestB) == 10): break\n",
    "    otherUserReviews = {}\n",
    "    for index in reviews.index:\n",
    "        if (reviews['user_id'][index] == otherUser[1]):\n",
    "            otherUserReviews[reviews['book_id'][index]] = reviews['rating'][index]\n",
    "    sortedOtherUserReviews = sorted(otherUserReviews.items(), reverse=True, key=lambda elem : elem[1])\n",
    "    for elem in sortedOtherUserReviews:\n",
    "        if elem[0] in booksAdded: continue\n",
    "        if elem[0] in userReviews.keys(): continue\n",
    "        tenBestB.append((otherUser[0], sortedOtherUserReviews[0][0]))\n",
    "        booksAdded.append(sortedOtherUserReviews[0][0])\n",
    "        break\n",
    "\n",
    "print('\\t Item ID \\t Similarity')\n",
    "for index, elem in enumerate(tenBestB):\n",
    "    print(f\"{index+1}   \\t {elem[1]}    \\t {elem[0]}\")"
   ]
  },
  {
   "cell_type": "markdown",
   "metadata": {},
   "source": [
    "### Task 3"
   ]
  },
  {
   "cell_type": "code",
   "execution_count": 9,
   "metadata": {},
   "outputs": [],
   "source": [
    "import math\n",
    "\n",
    "userAverages = {}\n",
    "itemAverages = {}\n",
    "\n",
    "for u in itemsPerUser:\n",
    "    rs = [ratingDict[(u,i)] for i in itemsPerUser[u]]\n",
    "    userAverages[u] = sum(rs) / len(rs)\n",
    "    \n",
    "for i in usersPerItem:\n",
    "    rs = [ratingDict[(u,i)] for u in usersPerItem[i]]\n",
    "    itemAverages[i] = sum(rs) / len(rs)"
   ]
  },
  {
   "cell_type": "code",
   "execution_count": 10,
   "metadata": {},
   "outputs": [
    {
     "name": "stdout",
     "output_type": "stream",
     "text": [
      "Pearson similarity in terms of SHARED items in the denominator\n",
      "\t Item ID \t Similarity\n",
      "1 \t 33585240 \t 1.0000000000000002\n",
      "2 \t 31855855 \t 1.0000000000000002\n",
      "3 \t 31224404 \t 1.0000000000000002\n",
      "4 \t 30272308 \t 1.0000000000000002\n",
      "5 \t 29840108 \t 1.0000000000000002\n",
      "6 \t 29431094 \t 1.0000000000000002\n",
      "7 \t 28926893 \t 1.0000000000000002\n",
      "8 \t 28084929 \t 1.0000000000000002\n",
      "9 \t 26251358 \t 1.0000000000000002\n",
      "10 \t 26013087 \t 1.0000000000000002\n"
     ]
    }
   ],
   "source": [
    "def PearsonSharedItems(item1, item2):\n",
    "    item1Bar, item2Bar = itemAverages[item1], itemAverages[item2]\n",
    "    intersect = usersPerItem[item1].intersection(usersPerItem[item2])\n",
    "    numerator, denominator1, denominator2 = 0, 0, 0\n",
    "    for user in intersect:\n",
    "        numerator += (ratingDict[(user, item1)] - item1Bar)*(ratingDict[(user,item2)] - item2Bar)\n",
    "    for user in intersect:\n",
    "        denominator1 += (ratingDict[(user,item1)] - item1Bar)**2\n",
    "        denominator2 += (ratingDict[(user,item2)] - item2Bar)**2\n",
    "    denominator = math.sqrt(denominator1) * math.sqrt(denominator2)\n",
    "    if denominator == 0: return 0\n",
    "    return numerator/denominator\n",
    "\n",
    "def mostSimilar(item, K):\n",
    "    similarities = []\n",
    "    users = usersPerItem[item]\n",
    "    for i in usersPerItem:\n",
    "        if (i==item): continue\n",
    "        similarity = PearsonSharedItems(item, i)\n",
    "        similarities.append((similarity, i))\n",
    "    similarities.sort(reverse=True)\n",
    "    return similarities[:K]\n",
    "\n",
    "firstItem = reviews['book_id'][0]\n",
    "tenHighest = mostSimilar(firstItem, 10)\n",
    "print('Pearson similarity in terms of SHARED items in the denominator')\n",
    "print('\\t Item ID \\t Similarity')\n",
    "for index, elem in enumerate(tenHighest):\n",
    "    print(f\"{index+1} \\t {elem[1]} \\t {elem[0]}\")\n"
   ]
  },
  {
   "cell_type": "code",
   "execution_count": 11,
   "metadata": {},
   "outputs": [
    {
     "name": "stdout",
     "output_type": "stream",
     "text": [
      "Pearson similarity in terms of ALL items in the denominator\n",
      "\t Item ID \t Similarity\n",
      "1 \t 20300526 \t 0.31898549007874194\n",
      "2 \t 13280885 \t 0.18785865431369264\n",
      "3 \t 18208501 \t 0.17896391275176457\n",
      "4 \t 25430791 \t 0.16269036695641687\n",
      "5 \t 21521612 \t 0.16269036695641687\n",
      "6 \t 1341758 \t 0.1555075595594449\n",
      "7 \t 6314737 \t 0.1526351566298752\n",
      "8 \t 4009034 \t 0.15204888048160353\n",
      "9 \t 988744 \t 0.1494406444160154\n",
      "10 \t 18430205 \t 0.14632419481281997\n"
     ]
    }
   ],
   "source": [
    "def PearsonAllItems(item1, item2):\n",
    "    item1Bar, item2Bar = itemAverages[item1], itemAverages[item2]\n",
    "    intersect = usersPerItem[item1].intersection(usersPerItem[item2])\n",
    "    numerator, denominator1, denominator2 = 0, 0, 0\n",
    "    for user in intersect:\n",
    "        numerator += (ratingDict[(user, item1)] - item1Bar)*(ratingDict[(user,item2)] - item2Bar)\n",
    "    for user in usersPerItem[item1]:\n",
    "        denominator1 += (ratingDict[(user,item1)] - item1Bar)**2\n",
    "    for user in usersPerItem[item2]:\n",
    "        denominator2 += (ratingDict[(user,item2)] - item2Bar)**2\n",
    "    denominator = math.sqrt(denominator1) * math.sqrt(denominator2)\n",
    "    if denominator == 0: return 0\n",
    "    return numerator/denominator\n",
    "\n",
    "def mostSimilar(item, K):\n",
    "    similarities = []\n",
    "    users = usersPerItem[item]\n",
    "    for i in usersPerItem:\n",
    "        if (i==item): continue\n",
    "        similarity = PearsonAllItems(item, i)\n",
    "        similarities.append((similarity, i))\n",
    "    similarities.sort(reverse=True)\n",
    "    return similarities[:K]\n",
    "\n",
    "firstItem = reviews['book_id'][0]\n",
    "tenHighest = mostSimilar(firstItem, 10)\n",
    "\n",
    "print('Pearson similarity in terms of ALL items in the denominator')\n",
    "print('\\t Item ID \\t Similarity')\n",
    "for index, elem in enumerate(tenHighest):\n",
    "    print(f\"{index+1} \\t {elem[1]} \\t {elem[0]}\")"
   ]
  },
  {
   "cell_type": "markdown",
   "metadata": {},
   "source": [
    "## Tasks — Rating Prediction"
   ]
  },
  {
   "cell_type": "markdown",
   "metadata": {},
   "source": [
    "### Task 4"
   ]
  },
  {
   "cell_type": "code",
   "execution_count": 12,
   "metadata": {},
   "outputs": [
    {
     "name": "stdout",
     "output_type": "stream",
     "text": [
      "MSE: 0.36449548691864403\n"
     ]
    }
   ],
   "source": [
    "def predictRating(user, item):\n",
    "    avgRating = sum([rating for rating in ratingsPerItem[item]])/len(ratingsPerItem[item])\n",
    "    numerator, denominator = 0, 0\n",
    "    for item2 in itemsPerUser[user]:\n",
    "        if item == item2: continue\n",
    "        similarity = Jaccard(usersPerItem[item], usersPerItem[item2]) \n",
    "        avgRating2 = sum([rating for rating in ratingsPerItem[item2]])/len(ratingsPerItem[item2])\n",
    "        numerator += (ratingDict[(user, item)] - avgRating2)*similarity\n",
    "        denominator += similarity\n",
    "    if(denominator!=0):\n",
    "        return avgRating + numerator/denominator\n",
    "    else:\n",
    "        return avgRating\n",
    "\n",
    "def MSE(predictions, labels):\n",
    "    differences = [(x-y)**2 for x,y in zip(predictions,labels)]\n",
    "    return sum(differences) / len(differences)\n",
    "\n",
    "simPredictions = [predictRating(reviews['user_id'][index], reviews['book_id'][index]) for index in range(0, 10000)]\n",
    "\n",
    "labels = [reviews['rating'][index] for  index in range(0, 10000)]\n",
    "\n",
    "mse = MSE(simPredictions, labels)\n",
    "\n",
    "print(f\"MSE: {mse}\")"
   ]
  },
  {
   "cell_type": "markdown",
   "metadata": {},
   "source": [
    "### Task 6"
   ]
  },
  {
   "cell_type": "code",
   "execution_count": 13,
   "metadata": {},
   "outputs": [
    {
     "name": "stdout",
     "output_type": "stream",
     "text": [
      "MSE: 0.36110988912894737\n"
     ]
    }
   ],
   "source": [
    "import dateutil.parser\n",
    "\n",
    "def f(t_i, t_j):\n",
    "    t_i = dateutil.parser.parse(t_i)\n",
    "    t_j = dateutil.parser.parse(t_j)\n",
    "    return math.e**-(abs((t_i-t_j).days)*1e-03)\n",
    "\n",
    "def predictRating(user, item):\n",
    "    avgRating = sum([rating for rating in ratingsPerItem[item]])/len(ratingsPerItem[item])\n",
    "    numerator, denominator = 0, 0\n",
    "    for item2 in itemsPerUser[user]:\n",
    "        if item == item2: continue\n",
    "        t_item = timeDict[(user, item)]\n",
    "        t_item2 = timeDict[(user, item2)]\n",
    "        decay = f(t_item, t_item2)\n",
    "        similarity = Jaccard(usersPerItem[item], usersPerItem[item2]) \n",
    "        avgRating2 = sum([rating for rating in ratingsPerItem[item2]])/len(ratingsPerItem[item2])\n",
    "        numerator += (ratingDict[(user, item)] - avgRating2)*similarity*decay\n",
    "        denominator += similarity*decay\n",
    "    if(denominator!=0):\n",
    "        return avgRating + numerator/denominator\n",
    "    else:\n",
    "        return avgRating\n",
    "\n",
    "def MSE(predictions, labels):\n",
    "    differences = [(x-y)**2 for x,y in zip(predictions,labels)]\n",
    "    return sum(differences) / len(differences)\n",
    "\n",
    "simPredictions = [predictRating(reviews['user_id'][index], reviews['book_id'][index]) for index in range(0, 10000)]\n",
    "\n",
    "labels = [reviews['rating'][index] for index in range(0, 10000)]\n",
    "\n",
    "mse = MSE(simPredictions, labels)\n",
    "\n",
    "print(f\"MSE: {mse}\")"
   ]
  }
 ],
 "metadata": {
  "kernelspec": {
   "display_name": "Python 3",
   "language": "python",
   "name": "python3"
  },
  "language_info": {
   "codemirror_mode": {
    "name": "ipython",
    "version": 3
   },
   "file_extension": ".py",
   "mimetype": "text/x-python",
   "name": "python",
   "nbconvert_exporter": "python",
   "pygments_lexer": "ipython3",
   "version": "3.8.8"
  },
  "orig_nbformat": 2
 },
 "nbformat": 4,
 "nbformat_minor": 2
}