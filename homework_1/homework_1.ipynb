{
  "cells": [
    {
      "cell_type": "markdown",
      "metadata": {
        "id": "bj-MrTgKntL8"
      },
      "source": [
        "# **Tasks — Regression (week 1):**\n",
        "\n",
        "### **Task 2:**\n",
        "\n"
      ]
    },
    {
      "cell_type": "code",
      "execution_count": 1,
      "metadata": {
        "id": "ha35ccnehDcb"
      },
      "outputs": [],
      "source": [
        "import pandas as pd\n",
        "import numpy as np\n",
        "\n",
        "reviews = pd.read_json('https://cseweb.ucsd.edu/classes/fa21/cse258-b/data/fantasy_10000.json.gz', lines=True)"
      ]
    },
    {
      "cell_type": "code",
      "execution_count": 135,
      "metadata": {
        "colab": {
          "base_uri": "https://localhost:8080/"
        },
        "id": "tPjuaDqZhXZa",
        "outputId": "feb383c6-f749-4ffb-e247-7858050cc37f"
      },
      "outputs": [
        {
          "name": "stdout",
          "output_type": "stream",
          "text": [
            "Theta([Theta_0; Theta_1]): \n",
            " [[3.68568136e+00]\n",
            " [6.87371675e-05]]\n"
          ]
        }
      ],
      "source": [
        "ratings = [review for review in reviews[\"rating\"]]\n",
        "lengths = [len(review) for review in reviews[\"review_text\"]]\n",
        "\n",
        "y = np.matrix(ratings).T\n",
        "X = np.matrix([[1,length] for length in lengths])\n",
        "\n",
        "theta = np.linalg.inv(X.T*X)*X.T*y\n",
        "print(\"Theta([Theta_0; Theta_1]): \\n\", theta)"
      ]
    },
    {
      "cell_type": "code",
      "execution_count": 136,
      "metadata": {
        "colab": {
          "base_uri": "https://localhost:8080/"
        },
        "id": "gb6Ra43GjASi",
        "outputId": "73bb17d4-b9fb-456a-a96b-26e2d1f2ca88"
      },
      "outputs": [
        {
          "name": "stdout",
          "output_type": "stream",
          "text": [
            "MSE =  [[1.55220866]]\n"
          ]
        }
      ],
      "source": [
        "sse = sum([x**2 for x in (y - X*theta)]) #Summing up all square errors\n",
        "mse = sse / len(y) #Dividing by length to get mean square error\n",
        "print(\"MSE = \", mse)"
      ]
    },
    {
      "cell_type": "markdown",
      "metadata": {
        "id": "4yWlhtop2tfe"
      },
      "source": [
        "### **Task 3:**"
      ]
    },
    {
      "cell_type": "code",
      "execution_count": 137,
      "metadata": {
        "id": "sbASS0XapAiZ"
      },
      "outputs": [],
      "source": [
        "import dateutil.parser\n",
        "dates = [dateutil.parser.parse(review_time) for review_time in reviews[\"date_added\"]]"
      ]
    },
    {
      "cell_type": "markdown",
      "metadata": {
        "id": "uXreI41pwXZz"
      },
      "source": [
        "![](/home/henrikhestnes/Documents/CSE-258-Web-Mining-and-Recommender-Systems/homework_1/Homework-1-task-3-1.png)\n",
        "![](/home/henrikhestnes/Documents/CSE-258-Web-Mining-and-Recommender-Systems/homework_1/Homework-1-task-3-2.png)\n"
      ]
    },
    {
      "cell_type": "markdown",
      "metadata": {
        "id": "TEMxhR8Aoefy"
      },
      "source": [
        "### **Task 4:**"
      ]
    },
    {
      "cell_type": "code",
      "execution_count": 138,
      "metadata": {},
      "outputs": [
        {
          "name": "stdout",
          "output_type": "stream",
          "text": [
            "Theta_1: \n",
            " [[3.29014782]] \n",
            "Theta_2: \n",
            " [[5.50923292e-05]] \n",
            "Theta_3: \n",
            " [[0.00875072]] \n",
            "Theta_4: \n",
            " [[0.05235923]]\n",
            "MSE =  [[1.53677405]]\n"
          ]
        }
      ],
      "source": [
        "#Using values directly as features\n",
        "def feature(index):\n",
        "    feature = [1]\n",
        "    feature.append(lengths[index])\n",
        "    feature.append(dates[index].weekday())\n",
        "    feature.append(dates[index].year-2006)\n",
        "    return feature\n",
        "\n",
        "y = np.matrix(ratings).T\n",
        "X = np.matrix([feature(index) for index in range(0, len(lengths))])\n",
        "\n",
        "theta = np.linalg.inv(X.T*X)*X.T*y\n",
        "print(\"Theta_1: \\n\", theta[0], \n",
        "\"\\nTheta_2: \\n\", theta[1],\n",
        "\"\\nTheta_3: \\n\", theta[2],\n",
        "\"\\nTheta_4: \\n\", theta[3])\n",
        "\n",
        "sse = sum([x**2 for x in (y - X*theta)]) #Summing up all square errors\n",
        "mse = sse / len(y) #Dividing by length to get mean square error\n",
        "print(\"MSE = \", mse)"
      ]
    },
    {
      "cell_type": "code",
      "execution_count": 139,
      "metadata": {
        "colab": {
          "base_uri": "https://localhost:8080/"
        },
        "id": "bFeOOAeE20WO",
        "outputId": "f6eb050c-30e9-4a5e-d1a7-385e8ad3566f"
      },
      "outputs": [
        {
          "name": "stdout",
          "output_type": "stream",
          "text": [
            "Theta_1: \n",
            " [[4.87171479]] \n",
            "Theta_2: \n",
            " [[5.15709386e-05]] \n",
            "Theta_3: \n",
            " [[0.04890034]\n",
            " [0.1457098 ]\n",
            " [0.1066464 ]\n",
            " [0.12616832]\n",
            " [0.03834177]\n",
            " [0.1028469 ]] \n",
            "Theta_4: \n",
            " [[-1.58244783]\n",
            " [-1.70447417]\n",
            " [-1.68316056]\n",
            " [-1.67023905]\n",
            " [-1.62877001]\n",
            " [-1.19956705]\n",
            " [-1.10444816]\n",
            " [-1.09162361]\n",
            " [-1.20861354]\n",
            " [-1.23647487]\n",
            " [-1.23331225]]\n",
            "MSE =  [[1.51235787]]\n"
          ]
        }
      ],
      "source": [
        "#Using one-hot encoding\n",
        "days = [date.weekday() for date in dates]\n",
        "years = [date.year for date in dates]\n",
        "\n",
        "def oneHotFeature(index):\n",
        "    feature = [1]\n",
        "\n",
        "    length = lengths[index]\n",
        "    feature.append(length)\n",
        "\n",
        "    day = dates[index].weekday()\n",
        "    dayEncoded = [0]*6\n",
        "    if day != 0:\n",
        "        dayEncoded[day-1] = 1\n",
        "    for elem in dayEncoded:\n",
        "        feature.append(elem)\n",
        "    \n",
        "    year = dates[index].year\n",
        "    yearEncoded = [0]*11\n",
        "    if year != 2006:\n",
        "        yearEncoded[year-2007] = 1\n",
        "    for elem in yearEncoded:\n",
        "        feature.append(elem)\n",
        "    \n",
        "    return feature\n",
        "\n",
        "\n",
        "y = np.matrix(ratings).T\n",
        "X = np.matrix([oneHotFeature(index) for index in range(0, len(lengths))])\n",
        "\n",
        "theta = np.linalg.inv(X.T*X)*X.T*y\n",
        "print(\"Theta_1: \\n\", theta[0], \n",
        "\"\\nTheta_2: \\n\", theta[1],\n",
        "\"\\nTheta_3: \\n\", theta[2:8],\n",
        "\"\\nTheta_4: \\n\", theta[8:])\n",
        "\n",
        "sse = sum([x**2 for x in (y - X*theta)]) #Summing up all square errors\n",
        "mse = sse / len(y) #Dividing by length to get mean square error\n",
        "print(\"MSE = \", mse)"
      ]
    },
    {
      "cell_type": "markdown",
      "metadata": {},
      "source": [
        "### **Task 5:**"
      ]
    },
    {
      "cell_type": "code",
      "execution_count": 147,
      "metadata": {},
      "outputs": [],
      "source": [
        "# distributing \"random\" indices to each set\n",
        "training_indices = [i for i in range(0, len(lengths), 2)]\n",
        "test_indices = [i for i in range(1, len(lengths), 2)]\n",
        "\n",
        "training_ratings = [ratings[i] for i in training_indices]\n",
        "test_ratings = [ratings[i] for i in test_indices]"
      ]
    },
    {
      "cell_type": "code",
      "execution_count": 148,
      "metadata": {},
      "outputs": [
        {
          "name": "stdout",
          "output_type": "stream",
          "text": [
            "MSE(training data) =  [[1.54991753]]\n",
            "MSE(test data) =  [[1.52654798]]\n"
          ]
        }
      ],
      "source": [
        "#Using values directly as features\n",
        "training_y = np.matrix(training_ratings).T\n",
        "test_y = np.matrix(test_ratings).T\n",
        "training_X = np.matrix([feature(index) for index in training_indices])\n",
        "trained_theta = np.linalg.inv(training_X.T*training_X)*training_X.T*training_y\n",
        "\n",
        "sse = sum([x**2 for x in (training_y - training_X*trained_theta)]) #Summing up all square errors\n",
        "mse = sse / len(test_y) #Dividing by length to get mean square error\n",
        "print(\"MSE(training data) = \", mse)\n",
        "sse = sum([x**2 for x in (test_y - training_X*trained_theta)]) #Summing up all square errors\n",
        "mse = sse / len(test_y) #Dividing by length to get mean square error\n",
        "print(\"MSE(test data) = \", mse)"
      ]
    },
    {
      "cell_type": "code",
      "execution_count": 149,
      "metadata": {},
      "outputs": [
        {
          "name": "stdout",
          "output_type": "stream",
          "text": [
            "MSE(training data) =  [[1.52069864]]\n",
            "MSE(test data) =  [[1.51164629]]\n"
          ]
        }
      ],
      "source": [
        "#Using one-hot encoding\n",
        "training_y = np.matrix(training_ratings).T\n",
        "test_y = np.matrix(test_ratings).T\n",
        "training_X = np.matrix([oneHotFeature(index) for index in training_indices])\n",
        "trained_theta = np.linalg.inv(training_X.T*training_X)*training_X.T*training_y\n",
        "\n",
        "sse = sum([x**2 for x in (training_y - training_X*trained_theta)]) #Summing up all square errors\n",
        "mse = sse / len(test_y) #Dividing by length to get mean square error\n",
        "print(\"MSE(training data) = \", mse)\n",
        "sse = sum([x**2 for x in (test_y - training_X*trained_theta)]) #Summing up all square errors\n",
        "mse = sse / len(test_y) #Dividing by length to get mean square error\n",
        "print(\"MSE(test data) = \", mse)"
      ]
    },
    {
      "cell_type": "markdown",
      "metadata": {},
      "source": [
        "### **Task 6:**"
      ]
    },
    {
      "cell_type": "markdown",
      "metadata": {},
      "source": [
        "![](/home/henrikhestnes/Documents/CSE-258-Web-Mining-and-Recommender-Systems/homework_1/Homework-1-task-6-1.png)\n"
      ]
    },
    {
      "cell_type": "markdown",
      "metadata": {},
      "source": [
        "# **Tasks — Classification (week 2):**\n",
        "\n",
        "\n",
        "### **Task 7:**"
      ]
    },
    {
      "cell_type": "code",
      "execution_count": 150,
      "metadata": {},
      "outputs": [],
      "source": [
        "import pandas as pd\n",
        "import numpy as np\n",
        "import sklearn\n",
        "from sklearn import linear_model\n",
        "from urllib.request import urlopen\n",
        "\n",
        "def readFromURL(URL):\n",
        "    for l in urlopen(URL):\n",
        "        yield eval(l)\n",
        "\n",
        "data = list(readFromURL(\"https://cseweb.ucsd.edu/classes/fa21/cse258-b/data/beer_50000.json\"))\n",
        "reviews = pd.DataFrame(data)"
      ]
    },
    {
      "cell_type": "code",
      "execution_count": 152,
      "metadata": {},
      "outputs": [
        {
          "name": "stdout",
          "output_type": "stream",
          "text": [
            "True Positive =  14201\n",
            "Fake Positive =  5885\n",
            "True Negative =  10503\n",
            "Fake Negative =  19411\n",
            "Balanced Error Rates =  0.46830315259572763\n"
          ]
        }
      ],
      "source": [
        "lengths = [len(review) for review in reviews[\"review/text\"]]\n",
        "X = np.matrix([[1,length] for length in lengths])\n",
        "y = [rating >= 4 for rating in reviews[\"review/overall\"]]\n",
        "\n",
        "model = sklearn.linear_model.LogisticRegression(class_weight='balanced')\n",
        "model.fit(X,y)\n",
        "predictions = model.predict(X)\n",
        "\n",
        "truePos = sum([(predictions[i] and y[i]) for i in range(0, len(y))])\n",
        "fakePos = sum([(predictions[i] and not y[i]) for i in range(0, len(y))])\n",
        "trueNeg = sum([(not predictions[i] and not y[i]) for i in range(0, len(y))])\n",
        "fakeNeg = sum([(not predictions[i] and y[i]) for i in range(0, len(y))])\n",
        "\n",
        "FPR = fakePos/(fakePos+trueNeg)\n",
        "FNR = fakeNeg/(fakeNeg+truePos)\n",
        "\n",
        "BER = 0.5*(FPR + FNR)\n",
        "\n",
        "print(\"True Positive = \", truePos)\n",
        "print(\"Fake Positive = \", fakePos)\n",
        "print(\"True Negative = \", trueNeg)\n",
        "print(\"Fake Negative = \", fakeNeg)\n",
        "print(\"Balanced Error Rates = \", BER)\n"
      ]
    },
    {
      "cell_type": "markdown",
      "metadata": {},
      "source": [
        "### **Task 8:**"
      ]
    },
    {
      "cell_type": "code",
      "execution_count": 154,
      "metadata": {},
      "outputs": [
        {
          "data": {
            "image/png": "[encoded data removed]",
            "text/plain": "<Figure size 432x288 with 1 Axes>"
          },
          "metadata": {
            "needs_background": "light",
            "transient": {}
          },
          "output_type": "display_data"
        },
        {
          "name": "stdout",
          "output_type": "stream",
          "text": [
            "precision@K for k=1: 1.0, k=100: 0.7692307692307693, k=10000: 0.7152437193474127\n"
          ]
        }
      ],
      "source": [
        "import matplotlib.pyplot as plt\n",
        "\n",
        "confidences = model.decision_function(X) \n",
        "sortedByConfidence = list(zip(confidences, y))\n",
        "sortedByConfidence.sort(reverse=True)\n",
        "\n",
        "K = [K for K in range(1, 10000+1, 10)]\n",
        "precisionsK = []\n",
        "for k in K:\n",
        "    retrievedLabels = [x[1] for x in sortedByConfidence[:k]]\n",
        "    precisionK = sum(retrievedLabels)/len(retrievedLabels)\n",
        "    precisionsK.append(precisionK)\n",
        "\n",
        "plt.plot(K, precisionsK)\n",
        "plt.xlabel(\"K\")\n",
        "plt.ylabel(\"Precision\")\n",
        "plt.show()\n",
        "print(f\"precision@K for k=1: {precisionsK[0]}, k=100: {precisionsK[100//10-1]}, k=10000: {precisionsK[10000//10-1]}\")"
      ]
    },
    {
      "cell_type": "markdown",
      "metadata": {},
      "source": [
        "### **Task 9:**"
      ]
    },
    {
      "cell_type": "code",
      "execution_count": 155,
      "metadata": {},
      "outputs": [
        {
          "data": {
            "image/png": "[encoded data removed]",
            "text/plain": "<Figure size 432x288 with 1 Axes>"
          },
          "metadata": {
            "needs_background": "light",
            "transient": {}
          },
          "output_type": "display_data"
        },
        {
          "name": "stdout",
          "output_type": "stream",
          "text": [
            "precision@K for k=1: 1.0, k=100: 0.7692307692307693, k=10000: 0.6188569712741467\n"
          ]
        }
      ],
      "source": [
        "import matplotlib.pyplot as plt\n",
        "\n",
        "confidences = model.decision_function(X)\n",
        "sortedByConfidence = list(zip(abs(confidences), y, predictions))\n",
        "sortedByConfidence.sort(reverse=True)\n",
        "\n",
        "K = [K for K in range(1, 10000+1, 10)]\n",
        "precisionsK = []\n",
        "for k in K:\n",
        "    retrievedLabels = [[x[1], x[2]] for x in sortedByConfidence[:k]]\n",
        "    precisionK = 0\n",
        "    for elem in retrievedLabels:\n",
        "        precisionK += (int)(elem[0]==elem[1])\n",
        "    precisionK = precisionK/k\n",
        "    precisionsK.append(precisionK)\n",
        "    \n",
        "plt.plot(K, precisionsK)\n",
        "plt.xlabel(\"K\")\n",
        "plt.ylabel(\"Precision\")\n",
        "plt.show()\n",
        "\n",
        "print(f\"precision@K for k=1: {precisionsK[0]}, k=100: {precisionsK[100//10-1]}, k=10000: {precisionsK[10000//10-1]}\")"
      ]
    }
  ],
  "metadata": {
    "colab": {
      "collapsed_sections": [],
      "name": "homework_1.ipynb",
      "provenance": [],
      "toc_visible": true
    },
    "kernelspec": {
      "display_name": "Python 3",
      "language": "python",
      "name": "python3"
    },
    "language_info": {
      "codemirror_mode": {
        "name": "ipython",
        "version": 3
      },
      "file_extension": ".py",
      "mimetype": "text/x-python",
      "name": "python",
      "nbconvert_exporter": "python",
      "pygments_lexer": "ipython3",
      "version": "3.8.8"
    }
  },
  "nbformat": 4,
  "nbformat_minor": 0
}